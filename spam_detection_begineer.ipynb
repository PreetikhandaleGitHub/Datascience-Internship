{
  "cells": [
    {
      "cell_type": "code",
      "execution_count": null,
      "id": "03c2b511",
      "metadata": {
        "execution": {
          "iopub.execute_input": "2023-07-01T11:48:04.416297Z",
          "iopub.status.busy": "2023-07-01T11:48:04.415817Z",
          "iopub.status.idle": "2023-07-01T11:48:04.422254Z",
          "shell.execute_reply": "2023-07-01T11:48:04.420869Z"
        },
        "papermill": {
          "duration": 0.045869,
          "end_time": "2023-07-01T11:48:04.426878",
          "exception": false,
          "start_time": "2023-07-01T11:48:04.381009",
          "status": "completed"
        },
        "tags": [],
        "id": "03c2b511"
      },
      "outputs": [],
      "source": [
        "# Spam detection: Introduction"
      ]
    },
    {
      "cell_type": "markdown",
      "id": "fbc1fddb",
      "metadata": {
        "papermill": {
          "duration": 0.032442,
          "end_time": "2023-07-01T11:48:04.491645",
          "exception": false,
          "start_time": "2023-07-01T11:48:04.459203",
          "status": "completed"
        },
        "tags": [],
        "id": "fbc1fddb"
      },
      "source": [
        "\n",
        "\n",
        "Imagine you have an email inbox, and every day you receive numerous messages. Among those messages, some are relevant and important, like messages from friends, family, or work-related contacts. However, you also receive unwanted messages that try to sell you something, promote scams, or contain irrelevant content.\n",
        "\n",
        "Spam detection is like having a virtual assistant that helps you automatically distinguish between these two types of messages. It looks at various characteristics of the messages, such as the sender's information, the content of the message, and any attached links or files. Based on these characteristics, the spam detection system uses clever algorithms to make a prediction: Is this message likely to be spam or not?\n",
        "\n",
        "The system uses patterns and rules it has learned from analyzing a large dataset of known spam and non-spam messages. It looks for clues or red flags that suggest a message might be spam, such as suspicious sender addresses, unusual content, or common phrases used in spam messages.\n",
        "\n",
        "By using sophisticated algorithms and machine learning techniques, the spam detection system can become quite accurate over time. It continuously learns from new examples and adjusts its rules and patterns to adapt to evolving spam techniques.\n",
        "\n",
        "The ultimate goal of spam detection is to protect you from unwanted messages, save your time and effort, and ensure that you only receive relevant and important communication. It acts as a filter, keeping your inbox clean and ensuring that you don't fall victim to scams or waste time dealing with irrelevant messages."
      ]
    },
    {
      "cell_type": "code",
      "execution_count": null,
      "id": "00451a1a",
      "metadata": {
        "execution": {
          "iopub.execute_input": "2023-07-01T11:48:04.557579Z",
          "iopub.status.busy": "2023-07-01T11:48:04.557198Z",
          "iopub.status.idle": "2023-07-01T11:48:04.568850Z",
          "shell.execute_reply": "2023-07-01T11:48:04.567577Z"
        },
        "papermill": {
          "duration": 0.047521,
          "end_time": "2023-07-01T11:48:04.571367",
          "exception": false,
          "start_time": "2023-07-01T11:48:04.523846",
          "status": "completed"
        },
        "tags": [],
        "id": "00451a1a"
      },
      "outputs": [],
      "source": [
        "#importing libraries\n",
        "import pandas as pd\n",
        "import numpy as np"
      ]
    },
    {
      "cell_type": "code",
      "execution_count": null,
      "id": "c5e9a888",
      "metadata": {
        "execution": {
          "iopub.execute_input": "2023-07-01T11:48:04.638466Z",
          "iopub.status.busy": "2023-07-01T11:48:04.638074Z",
          "iopub.status.idle": "2023-07-01T11:48:04.682900Z",
          "shell.execute_reply": "2023-07-01T11:48:04.681662Z"
        },
        "papermill": {
          "duration": 0.081562,
          "end_time": "2023-07-01T11:48:04.685742",
          "exception": false,
          "start_time": "2023-07-01T11:48:04.604180",
          "status": "completed"
        },
        "tags": [],
        "id": "c5e9a888"
      },
      "outputs": [],
      "source": [
        "#reading dataset\n",
        "df=pd.read_csv('/content/spam.csv',encoding='latin-1')"
      ]
    },
    {
      "cell_type": "code",
      "execution_count": null,
      "id": "1aca3682",
      "metadata": {
        "execution": {
          "iopub.execute_input": "2023-07-01T11:48:04.752316Z",
          "iopub.status.busy": "2023-07-01T11:48:04.751826Z",
          "iopub.status.idle": "2023-07-01T11:48:04.759628Z",
          "shell.execute_reply": "2023-07-01T11:48:04.758685Z"
        },
        "papermill": {
          "duration": 0.044929,
          "end_time": "2023-07-01T11:48:04.762850",
          "exception": false,
          "start_time": "2023-07-01T11:48:04.717921",
          "status": "completed"
        },
        "tags": [],
        "id": "1aca3682",
        "outputId": "99679e01-0868-4c3a-e008-4d6c3a3cd8bd"
      },
      "outputs": [
        {
          "data": {
            "text/plain": [
              "(5572, 5)"
            ]
          },
          "execution_count": 4,
          "metadata": {},
          "output_type": "execute_result"
        }
      ],
      "source": [
        "#checking size of dataframe\n",
        "df.shape"
      ]
    },
    {
      "cell_type": "code",
      "execution_count": null,
      "id": "694fab3c",
      "metadata": {
        "execution": {
          "iopub.execute_input": "2023-07-01T11:48:04.831692Z",
          "iopub.status.busy": "2023-07-01T11:48:04.831257Z",
          "iopub.status.idle": "2023-07-01T11:48:04.865050Z",
          "shell.execute_reply": "2023-07-01T11:48:04.864030Z"
        },
        "papermill": {
          "duration": 0.071166,
          "end_time": "2023-07-01T11:48:04.867470",
          "exception": false,
          "start_time": "2023-07-01T11:48:04.796304",
          "status": "completed"
        },
        "tags": [],
        "id": "694fab3c",
        "outputId": "1afd3b39-4349-4ac3-b38b-4b7d3b0dd7b1"
      },
      "outputs": [
        {
          "data": {
            "text/html": [
              "<div>\n",
              "<style scoped>\n",
              "    .dataframe tbody tr th:only-of-type {\n",
              "        vertical-align: middle;\n",
              "    }\n",
              "\n",
              "    .dataframe tbody tr th {\n",
              "        vertical-align: top;\n",
              "    }\n",
              "\n",
              "    .dataframe thead th {\n",
              "        text-align: right;\n",
              "    }\n",
              "</style>\n",
              "<table border=\"1\" class=\"dataframe\">\n",
              "  <thead>\n",
              "    <tr style=\"text-align: right;\">\n",
              "      <th></th>\n",
              "      <th>v1</th>\n",
              "      <th>v2</th>\n",
              "      <th>Unnamed: 2</th>\n",
              "      <th>Unnamed: 3</th>\n",
              "      <th>Unnamed: 4</th>\n",
              "    </tr>\n",
              "  </thead>\n",
              "  <tbody>\n",
              "    <tr>\n",
              "      <th>0</th>\n",
              "      <td>ham</td>\n",
              "      <td>Go until jurong point, crazy.. Available only ...</td>\n",
              "      <td>NaN</td>\n",
              "      <td>NaN</td>\n",
              "      <td>NaN</td>\n",
              "    </tr>\n",
              "    <tr>\n",
              "      <th>1</th>\n",
              "      <td>ham</td>\n",
              "      <td>Ok lar... Joking wif u oni...</td>\n",
              "      <td>NaN</td>\n",
              "      <td>NaN</td>\n",
              "      <td>NaN</td>\n",
              "    </tr>\n",
              "    <tr>\n",
              "      <th>2</th>\n",
              "      <td>spam</td>\n",
              "      <td>Free entry in 2 a wkly comp to win FA Cup fina...</td>\n",
              "      <td>NaN</td>\n",
              "      <td>NaN</td>\n",
              "      <td>NaN</td>\n",
              "    </tr>\n",
              "    <tr>\n",
              "      <th>3</th>\n",
              "      <td>ham</td>\n",
              "      <td>U dun say so early hor... U c already then say...</td>\n",
              "      <td>NaN</td>\n",
              "      <td>NaN</td>\n",
              "      <td>NaN</td>\n",
              "    </tr>\n",
              "    <tr>\n",
              "      <th>4</th>\n",
              "      <td>ham</td>\n",
              "      <td>Nah I don't think he goes to usf, he lives aro...</td>\n",
              "      <td>NaN</td>\n",
              "      <td>NaN</td>\n",
              "      <td>NaN</td>\n",
              "    </tr>\n",
              "  </tbody>\n",
              "</table>\n",
              "</div>"
            ],
            "text/plain": [
              "     v1                                                 v2 Unnamed: 2  \\\n",
              "0   ham  Go until jurong point, crazy.. Available only ...        NaN   \n",
              "1   ham                      Ok lar... Joking wif u oni...        NaN   \n",
              "2  spam  Free entry in 2 a wkly comp to win FA Cup fina...        NaN   \n",
              "3   ham  U dun say so early hor... U c already then say...        NaN   \n",
              "4   ham  Nah I don't think he goes to usf, he lives aro...        NaN   \n",
              "\n",
              "  Unnamed: 3 Unnamed: 4  \n",
              "0        NaN        NaN  \n",
              "1        NaN        NaN  \n",
              "2        NaN        NaN  \n",
              "3        NaN        NaN  \n",
              "4        NaN        NaN  "
            ]
          },
          "execution_count": 5,
          "metadata": {},
          "output_type": "execute_result"
        }
      ],
      "source": [
        "df.head(5)"
      ]
    },
    {
      "cell_type": "markdown",
      "id": "7ae1ccec",
      "metadata": {
        "papermill": {
          "duration": 0.032969,
          "end_time": "2023-07-01T11:48:04.934181",
          "exception": false,
          "start_time": "2023-07-01T11:48:04.901212",
          "status": "completed"
        },
        "tags": [],
        "id": "7ae1ccec"
      },
      "source": [
        "# Data Cleaning"
      ]
    },
    {
      "cell_type": "code",
      "execution_count": null,
      "id": "539be025",
      "metadata": {
        "execution": {
          "iopub.execute_input": "2023-07-01T11:48:05.005080Z",
          "iopub.status.busy": "2023-07-01T11:48:05.004635Z",
          "iopub.status.idle": "2023-07-01T11:48:05.044160Z",
          "shell.execute_reply": "2023-07-01T11:48:05.042296Z"
        },
        "papermill": {
          "duration": 0.078671,
          "end_time": "2023-07-01T11:48:05.046929",
          "exception": false,
          "start_time": "2023-07-01T11:48:04.968258",
          "status": "completed"
        },
        "tags": [],
        "id": "539be025",
        "outputId": "2a3d609d-6e4b-428f-cac0-3dc28adf1ffa"
      },
      "outputs": [
        {
          "name": "stdout",
          "output_type": "stream",
          "text": [
            "<class 'pandas.core.frame.DataFrame'>\n",
            "RangeIndex: 5572 entries, 0 to 5571\n",
            "Data columns (total 5 columns):\n",
            " #   Column      Non-Null Count  Dtype \n",
            "---  ------      --------------  ----- \n",
            " 0   v1          5572 non-null   object\n",
            " 1   v2          5572 non-null   object\n",
            " 2   Unnamed: 2  50 non-null     object\n",
            " 3   Unnamed: 3  12 non-null     object\n",
            " 4   Unnamed: 4  6 non-null      object\n",
            "dtypes: object(5)\n",
            "memory usage: 217.8+ KB\n"
          ]
        }
      ],
      "source": [
        "df.info()"
      ]
    },
    {
      "cell_type": "code",
      "execution_count": null,
      "id": "433356db",
      "metadata": {
        "execution": {
          "iopub.execute_input": "2023-07-01T11:48:05.118180Z",
          "iopub.status.busy": "2023-07-01T11:48:05.117716Z",
          "iopub.status.idle": "2023-07-01T11:48:05.124450Z",
          "shell.execute_reply": "2023-07-01T11:48:05.123308Z"
        },
        "papermill": {
          "duration": 0.045798,
          "end_time": "2023-07-01T11:48:05.126788",
          "exception": false,
          "start_time": "2023-07-01T11:48:05.080990",
          "status": "completed"
        },
        "tags": [],
        "id": "433356db"
      },
      "outputs": [],
      "source": [
        "#dropping un necessary columns\n",
        "df.drop(columns=['Unnamed: 2','Unnamed: 3','Unnamed: 4'],inplace=True)"
      ]
    },
    {
      "cell_type": "code",
      "execution_count": null,
      "id": "573e9025",
      "metadata": {
        "execution": {
          "iopub.execute_input": "2023-07-01T11:48:05.198026Z",
          "iopub.status.busy": "2023-07-01T11:48:05.197570Z",
          "iopub.status.idle": "2023-07-01T11:48:05.203761Z",
          "shell.execute_reply": "2023-07-01T11:48:05.202605Z"
        },
        "papermill": {
          "duration": 0.045969,
          "end_time": "2023-07-01T11:48:05.206294",
          "exception": false,
          "start_time": "2023-07-01T11:48:05.160325",
          "status": "completed"
        },
        "tags": [],
        "id": "573e9025"
      },
      "outputs": [],
      "source": [
        "#renaming the columns\n",
        "df.rename(columns={'v1':'target','v2':'text'},inplace=True)"
      ]
    },
    {
      "cell_type": "code",
      "execution_count": null,
      "id": "09aee8b6",
      "metadata": {
        "execution": {
          "iopub.execute_input": "2023-07-01T11:48:05.276046Z",
          "iopub.status.busy": "2023-07-01T11:48:05.275655Z",
          "iopub.status.idle": "2023-07-01T11:48:05.287448Z",
          "shell.execute_reply": "2023-07-01T11:48:05.285911Z"
        },
        "papermill": {
          "duration": 0.050449,
          "end_time": "2023-07-01T11:48:05.290923",
          "exception": false,
          "start_time": "2023-07-01T11:48:05.240474",
          "status": "completed"
        },
        "tags": [],
        "id": "09aee8b6",
        "outputId": "c7a9d691-a09a-45f1-f1ca-53aa6f5ce81c"
      },
      "outputs": [
        {
          "data": {
            "text/html": [
              "<div>\n",
              "<style scoped>\n",
              "    .dataframe tbody tr th:only-of-type {\n",
              "        vertical-align: middle;\n",
              "    }\n",
              "\n",
              "    .dataframe tbody tr th {\n",
              "        vertical-align: top;\n",
              "    }\n",
              "\n",
              "    .dataframe thead th {\n",
              "        text-align: right;\n",
              "    }\n",
              "</style>\n",
              "<table border=\"1\" class=\"dataframe\">\n",
              "  <thead>\n",
              "    <tr style=\"text-align: right;\">\n",
              "      <th></th>\n",
              "      <th>target</th>\n",
              "      <th>text</th>\n",
              "    </tr>\n",
              "  </thead>\n",
              "  <tbody>\n",
              "    <tr>\n",
              "      <th>0</th>\n",
              "      <td>ham</td>\n",
              "      <td>Go until jurong point, crazy.. Available only ...</td>\n",
              "    </tr>\n",
              "    <tr>\n",
              "      <th>1</th>\n",
              "      <td>ham</td>\n",
              "      <td>Ok lar... Joking wif u oni...</td>\n",
              "    </tr>\n",
              "  </tbody>\n",
              "</table>\n",
              "</div>"
            ],
            "text/plain": [
              "  target                                               text\n",
              "0    ham  Go until jurong point, crazy.. Available only ...\n",
              "1    ham                      Ok lar... Joking wif u oni..."
            ]
          },
          "execution_count": 9,
          "metadata": {},
          "output_type": "execute_result"
        }
      ],
      "source": [
        "df.head(2)"
      ]
    },
    {
      "cell_type": "markdown",
      "id": "af88cd38",
      "metadata": {
        "papermill": {
          "duration": 0.033752,
          "end_time": "2023-07-01T11:48:05.358752",
          "exception": false,
          "start_time": "2023-07-01T11:48:05.325000",
          "status": "completed"
        },
        "tags": [],
        "id": "af88cd38"
      },
      "source": [
        "**Label Encoding**<br>\n",
        "Label encoding is commonly used in machine learning tasks when dealing with categorical target variables. The target variable, also known as the dependent variable or response variable, is the variable that you want to predict or classify.\n",
        "\n",
        "In many machine learning algorithms, the target variable needs to be represented numerically for the model to process it effectively. Label encoding provides a way to convert categorical labels into numerical values.\n",
        "\n",
        "we need to apply the label encoding only to the target variable and not the feature variables, as encoding the features in a similar way could introduce bias or incorrect assumptions into the model."
      ]
    },
    {
      "cell_type": "code",
      "execution_count": null,
      "id": "8e946d16",
      "metadata": {
        "execution": {
          "iopub.execute_input": "2023-07-01T11:48:05.428214Z",
          "iopub.status.busy": "2023-07-01T11:48:05.427734Z",
          "iopub.status.idle": "2023-07-01T11:48:06.926522Z",
          "shell.execute_reply": "2023-07-01T11:48:06.925311Z"
        },
        "papermill": {
          "duration": 1.53743,
          "end_time": "2023-07-01T11:48:06.929674",
          "exception": false,
          "start_time": "2023-07-01T11:48:05.392244",
          "status": "completed"
        },
        "tags": [],
        "id": "8e946d16"
      },
      "outputs": [],
      "source": [
        "from sklearn.preprocessing import LabelEncoder\n",
        "encoder=LabelEncoder()\n",
        "df['target']=encoder.fit_transform(df['target'])"
      ]
    },
    {
      "cell_type": "markdown",
      "id": "2c9ff0bb",
      "metadata": {
        "papermill": {
          "duration": 0.033042,
          "end_time": "2023-07-01T11:48:06.996381",
          "exception": false,
          "start_time": "2023-07-01T11:48:06.963339",
          "status": "completed"
        },
        "tags": [],
        "id": "2c9ff0bb"
      },
      "source": [
        "After applying fit_transform(), the encoded column would look like this:\n",
        "\n",
        "0\n",
        "1\n",
        "0\n",
        "0\n",
        "In this transformed column, the machine learning algorithm can now understand that 'ham' is represented by 0 and 'spam' is represented by 1."
      ]
    },
    {
      "cell_type": "code",
      "execution_count": null,
      "id": "5a98627b",
      "metadata": {
        "execution": {
          "iopub.execute_input": "2023-07-01T11:48:07.067501Z",
          "iopub.status.busy": "2023-07-01T11:48:07.066887Z",
          "iopub.status.idle": "2023-07-01T11:48:07.079507Z",
          "shell.execute_reply": "2023-07-01T11:48:07.078324Z"
        },
        "papermill": {
          "duration": 0.05257,
          "end_time": "2023-07-01T11:48:07.082949",
          "exception": false,
          "start_time": "2023-07-01T11:48:07.030379",
          "status": "completed"
        },
        "tags": [],
        "id": "5a98627b",
        "outputId": "ce45797a-f527-40d1-e214-2e90487cc2dd"
      },
      "outputs": [
        {
          "data": {
            "text/html": [
              "<div>\n",
              "<style scoped>\n",
              "    .dataframe tbody tr th:only-of-type {\n",
              "        vertical-align: middle;\n",
              "    }\n",
              "\n",
              "    .dataframe tbody tr th {\n",
              "        vertical-align: top;\n",
              "    }\n",
              "\n",
              "    .dataframe thead th {\n",
              "        text-align: right;\n",
              "    }\n",
              "</style>\n",
              "<table border=\"1\" class=\"dataframe\">\n",
              "  <thead>\n",
              "    <tr style=\"text-align: right;\">\n",
              "      <th></th>\n",
              "      <th>target</th>\n",
              "      <th>text</th>\n",
              "    </tr>\n",
              "  </thead>\n",
              "  <tbody>\n",
              "    <tr>\n",
              "      <th>0</th>\n",
              "      <td>0</td>\n",
              "      <td>Go until jurong point, crazy.. Available only ...</td>\n",
              "    </tr>\n",
              "    <tr>\n",
              "      <th>1</th>\n",
              "      <td>0</td>\n",
              "      <td>Ok lar... Joking wif u oni...</td>\n",
              "    </tr>\n",
              "  </tbody>\n",
              "</table>\n",
              "</div>"
            ],
            "text/plain": [
              "   target                                               text\n",
              "0       0  Go until jurong point, crazy.. Available only ...\n",
              "1       0                      Ok lar... Joking wif u oni..."
            ]
          },
          "execution_count": 11,
          "metadata": {},
          "output_type": "execute_result"
        }
      ],
      "source": [
        "df.head(2)"
      ]
    },
    {
      "cell_type": "code",
      "execution_count": null,
      "id": "c4b4fe0b",
      "metadata": {
        "execution": {
          "iopub.execute_input": "2023-07-01T11:48:07.152443Z",
          "iopub.status.busy": "2023-07-01T11:48:07.151554Z",
          "iopub.status.idle": "2023-07-01T11:48:07.163992Z",
          "shell.execute_reply": "2023-07-01T11:48:07.162755Z"
        },
        "papermill": {
          "duration": 0.049548,
          "end_time": "2023-07-01T11:48:07.166401",
          "exception": false,
          "start_time": "2023-07-01T11:48:07.116853",
          "status": "completed"
        },
        "tags": [],
        "id": "c4b4fe0b",
        "outputId": "fefb9580-e4db-40c4-c870-4261932ca1d5"
      },
      "outputs": [
        {
          "data": {
            "text/plain": [
              "target    0\n",
              "text      0\n",
              "dtype: int64"
            ]
          },
          "execution_count": 12,
          "metadata": {},
          "output_type": "execute_result"
        }
      ],
      "source": [
        "#Checking missing values\n",
        "df.isnull().sum()"
      ]
    },
    {
      "cell_type": "code",
      "execution_count": null,
      "id": "f01aae7b",
      "metadata": {
        "execution": {
          "iopub.execute_input": "2023-07-01T11:48:07.236345Z",
          "iopub.status.busy": "2023-07-01T11:48:07.235941Z",
          "iopub.status.idle": "2023-07-01T11:48:07.250862Z",
          "shell.execute_reply": "2023-07-01T11:48:07.249689Z"
        },
        "papermill": {
          "duration": 0.052711,
          "end_time": "2023-07-01T11:48:07.253380",
          "exception": false,
          "start_time": "2023-07-01T11:48:07.200669",
          "status": "completed"
        },
        "tags": [],
        "id": "f01aae7b",
        "outputId": "df2778d0-6433-47b9-b581-b02458864025"
      },
      "outputs": [
        {
          "data": {
            "text/plain": [
              "403"
            ]
          },
          "execution_count": 13,
          "metadata": {},
          "output_type": "execute_result"
        }
      ],
      "source": [
        "#cheking duplicated values\n",
        "df.duplicated().sum()"
      ]
    },
    {
      "cell_type": "code",
      "execution_count": null,
      "id": "a3034203",
      "metadata": {
        "execution": {
          "iopub.execute_input": "2023-07-01T11:48:07.327068Z",
          "iopub.status.busy": "2023-07-01T11:48:07.325280Z",
          "iopub.status.idle": "2023-07-01T11:48:07.342102Z",
          "shell.execute_reply": "2023-07-01T11:48:07.340261Z"
        },
        "papermill": {
          "duration": 0.056368,
          "end_time": "2023-07-01T11:48:07.344618",
          "exception": false,
          "start_time": "2023-07-01T11:48:07.288250",
          "status": "completed"
        },
        "tags": [],
        "id": "a3034203",
        "outputId": "76edc4f4-c24a-4cd2-874a-ab897bbd1d4a"
      },
      "outputs": [
        {
          "name": "stdout",
          "output_type": "stream",
          "text": [
            "before removing duplicates; (5572, 2)\n",
            "after removing duplicates (5169, 2)\n"
          ]
        }
      ],
      "source": [
        "#dropping duplicates value\n",
        "print(\"before removing duplicates;\",df.shape)\n",
        "df.drop_duplicates(keep='first',inplace=True)\n",
        "print(\"after removing duplicates\",df.shape)"
      ]
    },
    {
      "cell_type": "markdown",
      "id": "ab64c8a1",
      "metadata": {
        "papermill": {
          "duration": 0.03934,
          "end_time": "2023-07-01T11:48:07.425238",
          "exception": false,
          "start_time": "2023-07-01T11:48:07.385898",
          "status": "completed"
        },
        "tags": [],
        "id": "ab64c8a1"
      },
      "source": [
        "# EDA"
      ]
    },
    {
      "cell_type": "code",
      "execution_count": null,
      "id": "961fa51b",
      "metadata": {
        "execution": {
          "iopub.execute_input": "2023-07-01T11:48:07.494798Z",
          "iopub.status.busy": "2023-07-01T11:48:07.493889Z",
          "iopub.status.idle": "2023-07-01T11:48:07.796684Z",
          "shell.execute_reply": "2023-07-01T11:48:07.795247Z"
        },
        "papermill": {
          "duration": 0.340775,
          "end_time": "2023-07-01T11:48:07.799391",
          "exception": false,
          "start_time": "2023-07-01T11:48:07.458616",
          "status": "completed"
        },
        "tags": [],
        "id": "961fa51b",
        "outputId": "1abb388e-4dae-4c2a-a0fa-31c6776f0e70"
      },
      "outputs": [
        {
          "data": {
            "text/plain": [
              "<Axes: >"
            ]
          },
          "execution_count": 15,
          "metadata": {},
          "output_type": "execute_result"
        },
        {
          "data": {
            "image/png": "[encoded data removed]",
            "text/plain": [
              "<Figure size 640x480 with 1 Axes>"
            ]
          },
          "metadata": {},
          "output_type": "display_data"
        }
      ],
      "source": [
        "#Checking counts of Ham and spam\n",
        "df['target'].value_counts().plot(kind='bar')"
      ]
    },
    {
      "cell_type": "code",
      "execution_count": null,
      "id": "af140d19",
      "metadata": {
        "execution": {
          "iopub.execute_input": "2023-07-01T11:48:07.868666Z",
          "iopub.status.busy": "2023-07-01T11:48:07.868272Z",
          "iopub.status.idle": "2023-07-01T11:48:08.014849Z",
          "shell.execute_reply": "2023-07-01T11:48:08.013201Z"
        },
        "papermill": {
          "duration": 0.185885,
          "end_time": "2023-07-01T11:48:08.019201",
          "exception": false,
          "start_time": "2023-07-01T11:48:07.833316",
          "status": "completed"
        },
        "tags": [],
        "id": "af140d19",
        "outputId": "6523d402-f7bc-4530-84a8-3ab0d054d22e"
      },
      "outputs": [
        {
          "data": {
            "image/png": "[encoded data removed]",
            "text/plain": [
              "<Figure size 640x480 with 1 Axes>"
            ]
          },
          "metadata": {},
          "output_type": "display_data"
        }
      ],
      "source": [
        "import matplotlib.pyplot as plt\n",
        "plt.pie(df[\"target\"].value_counts(),labels=['ham','spam'],autopct='%1.1f%%')\n",
        "plt.show()"
      ]
    },
    {
      "cell_type": "markdown",
      "id": "a3c90026",
      "metadata": {
        "papermill": {
          "duration": 0.033403,
          "end_time": "2023-07-01T11:48:08.120059",
          "exception": false,
          "start_time": "2023-07-01T11:48:08.086656",
          "status": "completed"
        },
        "tags": [],
        "id": "a3c90026"
      },
      "source": [
        "We can see we have more number of data for ham as compared to spam,It means we have imbalanced dataset"
      ]
    },
    {
      "cell_type": "markdown",
      "id": "384173c5",
      "metadata": {
        "papermill": {
          "duration": 0.035075,
          "end_time": "2023-07-01T11:48:08.188725",
          "exception": false,
          "start_time": "2023-07-01T11:48:08.153650",
          "status": "completed"
        },
        "tags": [],
        "id": "384173c5"
      },
      "source": [
        "## Feature Engineering: Adding Text-related Columns for Character, Word, and Sentence Counts"
      ]
    },
    {
      "cell_type": "markdown",
      "id": "ff0f3fb5",
      "metadata": {
        "execution": {
          "iopub.execute_input": "2023-06-29T09:07:28.419778Z",
          "iopub.status.busy": "2023-06-29T09:07:28.419239Z",
          "iopub.status.idle": "2023-06-29T09:07:28.429481Z",
          "shell.execute_reply": "2023-06-29T09:07:28.427579Z",
          "shell.execute_reply.started": "2023-06-29T09:07:28.419742Z"
        },
        "papermill": {
          "duration": 0.034218,
          "end_time": "2023-07-01T11:48:08.257092",
          "exception": false,
          "start_time": "2023-07-01T11:48:08.222874",
          "status": "completed"
        },
        "tags": [],
        "id": "ff0f3fb5"
      },
      "source": [
        "Now,lets add three new columns<br>\n",
        "1.num_characters : which counts how many characters are there in each text row <br>\n",
        "2.num_words : which counts how many words are there in each text row <br>\n",
        "3.num_sentences: which counts how many sentence are there in each text row <br>"
      ]
    },
    {
      "cell_type": "code",
      "execution_count": null,
      "id": "33de8d85",
      "metadata": {
        "execution": {
          "iopub.execute_input": "2023-07-01T11:48:08.330386Z",
          "iopub.status.busy": "2023-07-01T11:48:08.329964Z",
          "iopub.status.idle": "2023-07-01T11:48:09.083478Z",
          "shell.execute_reply": "2023-07-01T11:48:09.082198Z"
        },
        "papermill": {
          "duration": 0.793159,
          "end_time": "2023-07-01T11:48:09.086670",
          "exception": false,
          "start_time": "2023-07-01T11:48:08.293511",
          "status": "completed"
        },
        "tags": [],
        "id": "33de8d85"
      },
      "outputs": [],
      "source": [
        "import nltk"
      ]
    },
    {
      "cell_type": "code",
      "execution_count": null,
      "id": "49602610",
      "metadata": {
        "execution": {
          "iopub.execute_input": "2023-07-01T11:48:09.159228Z",
          "iopub.status.busy": "2023-07-01T11:48:09.158812Z",
          "iopub.status.idle": "2023-07-01T11:48:11.336331Z",
          "shell.execute_reply": "2023-07-01T11:48:11.335043Z"
        },
        "papermill": {
          "duration": 2.217671,
          "end_time": "2023-07-01T11:48:11.339676",
          "exception": false,
          "start_time": "2023-07-01T11:48:09.122005",
          "status": "completed"
        },
        "tags": [],
        "id": "49602610"
      },
      "outputs": [],
      "source": [
        "#num of characters\n",
        "df['num_characters'] = df['text'].apply(len)\n",
        "# num of words\n",
        "df['num_words'] = df['text'].apply(lambda x:len(nltk.word_tokenize(x)))\n",
        "#num of sentences\n",
        "df['num_sentences'] = df['text'].apply(lambda x:len(nltk.sent_tokenize(x)))"
      ]
    },
    {
      "cell_type": "code",
      "execution_count": null,
      "id": "366b3850",
      "metadata": {
        "execution": {
          "iopub.execute_input": "2023-07-01T11:48:11.413369Z",
          "iopub.status.busy": "2023-07-01T11:48:11.411934Z",
          "iopub.status.idle": "2023-07-01T11:48:11.425308Z",
          "shell.execute_reply": "2023-07-01T11:48:11.424053Z"
        },
        "papermill": {
          "duration": 0.052919,
          "end_time": "2023-07-01T11:48:11.427741",
          "exception": false,
          "start_time": "2023-07-01T11:48:11.374822",
          "status": "completed"
        },
        "tags": [],
        "id": "366b3850",
        "outputId": "36a0dd19-b32c-40f5-b912-690999e38cfa"
      },
      "outputs": [
        {
          "data": {
            "text/html": [
              "<div>\n",
              "<style scoped>\n",
              "    .dataframe tbody tr th:only-of-type {\n",
              "        vertical-align: middle;\n",
              "    }\n",
              "\n",
              "    .dataframe tbody tr th {\n",
              "        vertical-align: top;\n",
              "    }\n",
              "\n",
              "    .dataframe thead th {\n",
              "        text-align: right;\n",
              "    }\n",
              "</style>\n",
              "<table border=\"1\" class=\"dataframe\">\n",
              "  <thead>\n",
              "    <tr style=\"text-align: right;\">\n",
              "      <th></th>\n",
              "      <th>target</th>\n",
              "      <th>text</th>\n",
              "      <th>num_characters</th>\n",
              "      <th>num_words</th>\n",
              "      <th>num_sentences</th>\n",
              "    </tr>\n",
              "  </thead>\n",
              "  <tbody>\n",
              "    <tr>\n",
              "      <th>0</th>\n",
              "      <td>0</td>\n",
              "      <td>Go until jurong point, crazy.. Available only ...</td>\n",
              "      <td>111</td>\n",
              "      <td>23</td>\n",
              "      <td>2</td>\n",
              "    </tr>\n",
              "    <tr>\n",
              "      <th>1</th>\n",
              "      <td>0</td>\n",
              "      <td>Ok lar... Joking wif u oni...</td>\n",
              "      <td>29</td>\n",
              "      <td>8</td>\n",
              "      <td>2</td>\n",
              "    </tr>\n",
              "  </tbody>\n",
              "</table>\n",
              "</div>"
            ],
            "text/plain": [
              "   target                                               text  num_characters  \\\n",
              "0       0  Go until jurong point, crazy.. Available only ...             111   \n",
              "1       0                      Ok lar... Joking wif u oni...              29   \n",
              "\n",
              "   num_words  num_sentences  \n",
              "0         23              2  \n",
              "1          8              2  "
            ]
          },
          "execution_count": 19,
          "metadata": {},
          "output_type": "execute_result"
        }
      ],
      "source": [
        "df.head(2)"
      ]
    },
    {
      "cell_type": "markdown",
      "id": "bf16e594",
      "metadata": {
        "papermill": {
          "duration": 0.034805,
          "end_time": "2023-07-01T11:48:11.497889",
          "exception": false,
          "start_time": "2023-07-01T11:48:11.463084",
          "status": "completed"
        },
        "tags": [],
        "id": "bf16e594"
      },
      "source": [
        "Lets understand the range and variability of character counts, word counts, and sentence counts\n",
        "in the text data."
      ]
    },
    {
      "cell_type": "code",
      "execution_count": null,
      "id": "283bc25a",
      "metadata": {
        "execution": {
          "iopub.execute_input": "2023-07-01T11:48:11.570138Z",
          "iopub.status.busy": "2023-07-01T11:48:11.569641Z",
          "iopub.status.idle": "2023-07-01T11:48:11.595826Z",
          "shell.execute_reply": "2023-07-01T11:48:11.595044Z"
        },
        "papermill": {
          "duration": 0.06508,
          "end_time": "2023-07-01T11:48:11.598048",
          "exception": false,
          "start_time": "2023-07-01T11:48:11.532968",
          "status": "completed"
        },
        "tags": [],
        "id": "283bc25a",
        "outputId": "b1197fc0-8ab9-4bc6-c99a-71805eaaca6e"
      },
      "outputs": [
        {
          "data": {
            "text/html": [
              "<div>\n",
              "<style scoped>\n",
              "    .dataframe tbody tr th:only-of-type {\n",
              "        vertical-align: middle;\n",
              "    }\n",
              "\n",
              "    .dataframe tbody tr th {\n",
              "        vertical-align: top;\n",
              "    }\n",
              "\n",
              "    .dataframe thead th {\n",
              "        text-align: right;\n",
              "    }\n",
              "</style>\n",
              "<table border=\"1\" class=\"dataframe\">\n",
              "  <thead>\n",
              "    <tr style=\"text-align: right;\">\n",
              "      <th></th>\n",
              "      <th>num_characters</th>\n",
              "      <th>num_words</th>\n",
              "      <th>num_sentences</th>\n",
              "    </tr>\n",
              "  </thead>\n",
              "  <tbody>\n",
              "    <tr>\n",
              "      <th>count</th>\n",
              "      <td>5169.000000</td>\n",
              "      <td>5169.000000</td>\n",
              "      <td>5169.000000</td>\n",
              "    </tr>\n",
              "    <tr>\n",
              "      <th>mean</th>\n",
              "      <td>78.977945</td>\n",
              "      <td>18.286129</td>\n",
              "      <td>1.961308</td>\n",
              "    </tr>\n",
              "    <tr>\n",
              "      <th>std</th>\n",
              "      <td>58.236293</td>\n",
              "      <td>13.226400</td>\n",
              "      <td>1.432583</td>\n",
              "    </tr>\n",
              "    <tr>\n",
              "      <th>min</th>\n",
              "      <td>2.000000</td>\n",
              "      <td>1.000000</td>\n",
              "      <td>1.000000</td>\n",
              "    </tr>\n",
              "    <tr>\n",
              "      <th>25%</th>\n",
              "      <td>36.000000</td>\n",
              "      <td>9.000000</td>\n",
              "      <td>1.000000</td>\n",
              "    </tr>\n",
              "    <tr>\n",
              "      <th>50%</th>\n",
              "      <td>60.000000</td>\n",
              "      <td>15.000000</td>\n",
              "      <td>1.000000</td>\n",
              "    </tr>\n",
              "    <tr>\n",
              "      <th>75%</th>\n",
              "      <td>117.000000</td>\n",
              "      <td>26.000000</td>\n",
              "      <td>2.000000</td>\n",
              "    </tr>\n",
              "    <tr>\n",
              "      <th>max</th>\n",
              "      <td>910.000000</td>\n",
              "      <td>219.000000</td>\n",
              "      <td>38.000000</td>\n",
              "    </tr>\n",
              "  </tbody>\n",
              "</table>\n",
              "</div>"
            ],
            "text/plain": [
              "       num_characters    num_words  num_sentences\n",
              "count     5169.000000  5169.000000    5169.000000\n",
              "mean        78.977945    18.286129       1.961308\n",
              "std         58.236293    13.226400       1.432583\n",
              "min          2.000000     1.000000       1.000000\n",
              "25%         36.000000     9.000000       1.000000\n",
              "50%         60.000000    15.000000       1.000000\n",
              "75%        117.000000    26.000000       2.000000\n",
              "max        910.000000   219.000000      38.000000"
            ]
          },
          "execution_count": 20,
          "metadata": {},
          "output_type": "execute_result"
        }
      ],
      "source": [
        "#overall(ham and spam)\n",
        "df[['num_characters','num_words','num_sentences']].describe()"
      ]
    },
    {
      "cell_type": "markdown",
      "id": "7be1908c",
      "metadata": {
        "papermill": {
          "duration": 0.035246,
          "end_time": "2023-07-01T11:48:11.668814",
          "exception": false,
          "start_time": "2023-07-01T11:48:11.633568",
          "status": "completed"
        },
        "tags": [],
        "id": "7be1908c"
      },
      "source": [
        "num_characters: The average (mean) number of characters in the text messages is approximately 79. The standard deviation of 58 suggests a relatively wide variation in the character counts. The minimum character count is 2, while the maximum is 910. The 25th percentile indicates that 25% of the messages have 36 or fewer characters, and the 75th percentile shows that 75% of the messages have 117 or fewer characters.\n",
        "\n",
        "num_words: On average, the text messages contain around 18 words. The standard deviation is approximately 13, indicating some variability in word counts. The minimum number of words is 1, and the maximum is 219. The 25th percentile suggests that 25% of the messages have 9 or fewer words, while the 75th percentile indicates that 75% of the messages have 26 or fewer words.\n",
        "\n",
        "num_sentences: The average number of sentences in the text messages is approximately 2. The standard deviation of 1.4 indicates a moderate variation in the sentence counts. The minimum and maximum values are 1 and 38, respectively. The 25th percentile suggests that 25% of the messages have 1 sentence, while the 75th percentile indicates that 75% of the messages have 2 or fewer sentences."
      ]
    },
    {
      "cell_type": "markdown",
      "id": "6670e738",
      "metadata": {
        "papermill": {
          "duration": 0.03491,
          "end_time": "2023-07-01T11:48:11.738964",
          "exception": false,
          "start_time": "2023-07-01T11:48:11.704054",
          "status": "completed"
        },
        "tags": [],
        "id": "6670e738"
      },
      "source": [
        "Lets understand the range and variability of character counts, word counts, and sentence counts\n",
        "of **ham**in the text data."
      ]
    },
    {
      "cell_type": "code",
      "execution_count": null,
      "id": "f237e6c9",
      "metadata": {
        "execution": {
          "iopub.execute_input": "2023-07-01T11:48:11.812633Z",
          "iopub.status.busy": "2023-07-01T11:48:11.811945Z",
          "iopub.status.idle": "2023-07-01T11:48:11.837293Z",
          "shell.execute_reply": "2023-07-01T11:48:11.836120Z"
        },
        "papermill": {
          "duration": 0.065664,
          "end_time": "2023-07-01T11:48:11.840302",
          "exception": false,
          "start_time": "2023-07-01T11:48:11.774638",
          "status": "completed"
        },
        "tags": [],
        "id": "f237e6c9",
        "outputId": "7d7c69cb-ed6f-4ede-d077-e25b80e3c357"
      },
      "outputs": [
        {
          "data": {
            "text/html": [
              "<div>\n",
              "<style scoped>\n",
              "    .dataframe tbody tr th:only-of-type {\n",
              "        vertical-align: middle;\n",
              "    }\n",
              "\n",
              "    .dataframe tbody tr th {\n",
              "        vertical-align: top;\n",
              "    }\n",
              "\n",
              "    .dataframe thead th {\n",
              "        text-align: right;\n",
              "    }\n",
              "</style>\n",
              "<table border=\"1\" class=\"dataframe\">\n",
              "  <thead>\n",
              "    <tr style=\"text-align: right;\">\n",
              "      <th></th>\n",
              "      <th>num_characters</th>\n",
              "      <th>num_words</th>\n",
              "      <th>num_sentences</th>\n",
              "    </tr>\n",
              "  </thead>\n",
              "  <tbody>\n",
              "    <tr>\n",
              "      <th>count</th>\n",
              "      <td>4516.000000</td>\n",
              "      <td>4516.000000</td>\n",
              "      <td>4516.000000</td>\n",
              "    </tr>\n",
              "    <tr>\n",
              "      <th>mean</th>\n",
              "      <td>70.459256</td>\n",
              "      <td>16.957484</td>\n",
              "      <td>1.815545</td>\n",
              "    </tr>\n",
              "    <tr>\n",
              "      <th>std</th>\n",
              "      <td>56.358207</td>\n",
              "      <td>13.394052</td>\n",
              "      <td>1.364098</td>\n",
              "    </tr>\n",
              "    <tr>\n",
              "      <th>min</th>\n",
              "      <td>2.000000</td>\n",
              "      <td>1.000000</td>\n",
              "      <td>1.000000</td>\n",
              "    </tr>\n",
              "    <tr>\n",
              "      <th>25%</th>\n",
              "      <td>34.000000</td>\n",
              "      <td>8.000000</td>\n",
              "      <td>1.000000</td>\n",
              "    </tr>\n",
              "    <tr>\n",
              "      <th>50%</th>\n",
              "      <td>52.000000</td>\n",
              "      <td>13.000000</td>\n",
              "      <td>1.000000</td>\n",
              "    </tr>\n",
              "    <tr>\n",
              "      <th>75%</th>\n",
              "      <td>90.000000</td>\n",
              "      <td>22.000000</td>\n",
              "      <td>2.000000</td>\n",
              "    </tr>\n",
              "    <tr>\n",
              "      <th>max</th>\n",
              "      <td>910.000000</td>\n",
              "      <td>219.000000</td>\n",
              "      <td>38.000000</td>\n",
              "    </tr>\n",
              "  </tbody>\n",
              "</table>\n",
              "</div>"
            ],
            "text/plain": [
              "       num_characters    num_words  num_sentences\n",
              "count     4516.000000  4516.000000    4516.000000\n",
              "mean        70.459256    16.957484       1.815545\n",
              "std         56.358207    13.394052       1.364098\n",
              "min          2.000000     1.000000       1.000000\n",
              "25%         34.000000     8.000000       1.000000\n",
              "50%         52.000000    13.000000       1.000000\n",
              "75%         90.000000    22.000000       2.000000\n",
              "max        910.000000   219.000000      38.000000"
            ]
          },
          "execution_count": 21,
          "metadata": {},
          "output_type": "execute_result"
        }
      ],
      "source": [
        "# ham\n",
        "df[df['target'] == 0][['num_characters','num_words','num_sentences']].describe()"
      ]
    },
    {
      "cell_type": "markdown",
      "id": "11db23fb",
      "metadata": {
        "papermill": {
          "duration": 0.036354,
          "end_time": "2023-07-01T11:48:11.912707",
          "exception": false,
          "start_time": "2023-07-01T11:48:11.876353",
          "status": "completed"
        },
        "tags": [],
        "id": "11db23fb"
      },
      "source": [
        "Lets understand the range and variability of character counts, word counts, and sentence counts of spam in the text data."
      ]
    },
    {
      "cell_type": "code",
      "execution_count": null,
      "id": "f18baca7",
      "metadata": {
        "execution": {
          "iopub.execute_input": "2023-07-01T11:48:11.987236Z",
          "iopub.status.busy": "2023-07-01T11:48:11.986571Z",
          "iopub.status.idle": "2023-07-01T11:48:12.009261Z",
          "shell.execute_reply": "2023-07-01T11:48:12.008165Z"
        },
        "papermill": {
          "duration": 0.063104,
          "end_time": "2023-07-01T11:48:12.011660",
          "exception": false,
          "start_time": "2023-07-01T11:48:11.948556",
          "status": "completed"
        },
        "tags": [],
        "id": "f18baca7",
        "outputId": "0d97ebe0-5dcd-4987-f2a0-bd4a94e4d4cd"
      },
      "outputs": [
        {
          "data": {
            "text/html": [
              "<div>\n",
              "<style scoped>\n",
              "    .dataframe tbody tr th:only-of-type {\n",
              "        vertical-align: middle;\n",
              "    }\n",
              "\n",
              "    .dataframe tbody tr th {\n",
              "        vertical-align: top;\n",
              "    }\n",
              "\n",
              "    .dataframe thead th {\n",
              "        text-align: right;\n",
              "    }\n",
              "</style>\n",
              "<table border=\"1\" class=\"dataframe\">\n",
              "  <thead>\n",
              "    <tr style=\"text-align: right;\">\n",
              "      <th></th>\n",
              "      <th>num_characters</th>\n",
              "      <th>num_words</th>\n",
              "      <th>num_sentences</th>\n",
              "    </tr>\n",
              "  </thead>\n",
              "  <tbody>\n",
              "    <tr>\n",
              "      <th>count</th>\n",
              "      <td>653.000000</td>\n",
              "      <td>653.000000</td>\n",
              "      <td>653.000000</td>\n",
              "    </tr>\n",
              "    <tr>\n",
              "      <th>mean</th>\n",
              "      <td>137.891271</td>\n",
              "      <td>27.474732</td>\n",
              "      <td>2.969372</td>\n",
              "    </tr>\n",
              "    <tr>\n",
              "      <th>std</th>\n",
              "      <td>30.137753</td>\n",
              "      <td>6.893007</td>\n",
              "      <td>1.488910</td>\n",
              "    </tr>\n",
              "    <tr>\n",
              "      <th>min</th>\n",
              "      <td>13.000000</td>\n",
              "      <td>2.000000</td>\n",
              "      <td>1.000000</td>\n",
              "    </tr>\n",
              "    <tr>\n",
              "      <th>25%</th>\n",
              "      <td>132.000000</td>\n",
              "      <td>25.000000</td>\n",
              "      <td>2.000000</td>\n",
              "    </tr>\n",
              "    <tr>\n",
              "      <th>50%</th>\n",
              "      <td>149.000000</td>\n",
              "      <td>29.000000</td>\n",
              "      <td>3.000000</td>\n",
              "    </tr>\n",
              "    <tr>\n",
              "      <th>75%</th>\n",
              "      <td>157.000000</td>\n",
              "      <td>32.000000</td>\n",
              "      <td>4.000000</td>\n",
              "    </tr>\n",
              "    <tr>\n",
              "      <th>max</th>\n",
              "      <td>224.000000</td>\n",
              "      <td>44.000000</td>\n",
              "      <td>9.000000</td>\n",
              "    </tr>\n",
              "  </tbody>\n",
              "</table>\n",
              "</div>"
            ],
            "text/plain": [
              "       num_characters   num_words  num_sentences\n",
              "count      653.000000  653.000000     653.000000\n",
              "mean       137.891271   27.474732       2.969372\n",
              "std         30.137753    6.893007       1.488910\n",
              "min         13.000000    2.000000       1.000000\n",
              "25%        132.000000   25.000000       2.000000\n",
              "50%        149.000000   29.000000       3.000000\n",
              "75%        157.000000   32.000000       4.000000\n",
              "max        224.000000   44.000000       9.000000"
            ]
          },
          "execution_count": 22,
          "metadata": {},
          "output_type": "execute_result"
        }
      ],
      "source": [
        "# spam\n",
        "df[df['target'] == 1][['num_characters','num_words','num_sentences']].describe()"
      ]
    },
    {
      "cell_type": "markdown",
      "id": "38ada5bc",
      "metadata": {
        "papermill": {
          "duration": 0.035053,
          "end_time": "2023-07-01T11:48:12.083464",
          "exception": false,
          "start_time": "2023-07-01T11:48:12.048411",
          "status": "completed"
        },
        "tags": [],
        "id": "38ada5bc"
      },
      "source": [
        "Comparing the statistics for the columns 'num_characters', 'num_words', and 'num_sentences' from the different datasets (ham vs. spam), the following observations can be made:\n",
        "\n",
        "1. `num_characters`:\n",
        "   - The average character count in the spam dataset (138) is significantly higher compared to the ham dataset (79).\n",
        "   - The standard deviation for character counts in the spam dataset (30.1) is lower than that in the ham dataset (56.4), indicating less variability in character counts for spam messages.\n",
        "   - The range of character counts in the spam dataset (13 to 224) is narrower compared to the ham dataset (2 to 910).\n",
        "\n",
        "2. `num_words`:\n",
        "   - The average word count in the spam dataset (27.5) is higher compared to the ham dataset (18.3).\n",
        "   - The standard deviation for word counts in the spam dataset (6.9) is lower than that in the ham dataset (13.2), indicating less variability in word counts for spam messages.\n",
        "   - The range of word counts in the spam dataset (2 to 44) is narrower compared to the ham dataset (1 to 219).\n",
        "\n",
        "3. `num_sentences`:\n",
        "   - The average number of sentences in the spam dataset (2.97) is higher compared to the ham dataset (1.96).\n",
        "   - The standard deviation for sentence counts in the spam dataset (1.49) is slightly higher than that in the ham dataset (1.43), indicating similar variability in sentence counts for both spam and ham messages.\n",
        "   - The range of sentence counts in the spam dataset (1 to 9) is narrower compared to the ham dataset (1 to 38).\n",
        "\n",
        "**spam messages tend to have higher average counts for characters, words, and sentences compared to the ham messages. Additionally, the spam messages generally exhibit lower standard deviations, indicating less variability in the counts. These differences suggest that spam messages are typically longer, contain more words, and have slightly more sentences compared to ham messages**"
      ]
    },
    {
      "cell_type": "markdown",
      "id": "5a966122",
      "metadata": {
        "execution": {
          "iopub.execute_input": "2023-06-29T12:52:35.775545Z",
          "iopub.status.busy": "2023-06-29T12:52:35.774268Z",
          "iopub.status.idle": "2023-06-29T12:52:35.781208Z",
          "shell.execute_reply": "2023-06-29T12:52:35.780196Z",
          "shell.execute_reply.started": "2023-06-29T12:52:35.775503Z"
        },
        "papermill": {
          "duration": 0.03501,
          "end_time": "2023-07-01T11:48:12.154462",
          "exception": false,
          "start_time": "2023-07-01T11:48:12.119452",
          "status": "completed"
        },
        "tags": [],
        "id": "5a966122"
      },
      "source": [
        "**Lets Visualize**"
      ]
    },
    {
      "cell_type": "code",
      "execution_count": null,
      "id": "e9c22484",
      "metadata": {
        "execution": {
          "iopub.execute_input": "2023-07-01T11:48:12.230284Z",
          "iopub.status.busy": "2023-07-01T11:48:12.229792Z",
          "iopub.status.idle": "2023-07-01T11:48:13.360700Z",
          "shell.execute_reply": "2023-07-01T11:48:13.359317Z"
        },
        "papermill": {
          "duration": 1.173769,
          "end_time": "2023-07-01T11:48:13.363917",
          "exception": false,
          "start_time": "2023-07-01T11:48:12.190148",
          "status": "completed"
        },
        "tags": [],
        "id": "e9c22484",
        "outputId": "2aa20a3f-f9eb-4def-92e8-7869d545ae32"
      },
      "outputs": [
        {
          "data": {
            "image/png": "[encoded data removed]",
            "text/plain": [
              "<Figure size 640x480 with 1 Axes>"
            ]
          },
          "metadata": {},
          "output_type": "display_data"
        }
      ],
      "source": [
        "#num_characters\n",
        "import seaborn as sns\n",
        "sns.histplot(df[df['target'] == 0]['num_characters'], label='Non-spam')\n",
        "sns.histplot(df[df['target'] == 1]['num_characters'], label='Spam')\n",
        "\n",
        "plt.xlabel('Number of Characters')\n",
        "plt.ylabel('Frequency')\n",
        "plt.title('Histogram of Number of Characters')\n",
        "\n",
        "plt.legend()\n",
        "\n",
        "plt.show()"
      ]
    },
    {
      "cell_type": "markdown",
      "id": "3634f424",
      "metadata": {
        "papermill": {
          "duration": 0.035554,
          "end_time": "2023-07-01T11:48:13.437144",
          "exception": false,
          "start_time": "2023-07-01T11:48:13.401590",
          "status": "completed"
        },
        "tags": [],
        "id": "3634f424"
      },
      "source": [
        "As we can see,we have higher average counts for characters in spam as compared to ham"
      ]
    },
    {
      "cell_type": "code",
      "execution_count": null,
      "id": "1dd50196",
      "metadata": {
        "execution": {
          "iopub.execute_input": "2023-07-01T11:48:13.511786Z",
          "iopub.status.busy": "2023-07-01T11:48:13.510906Z",
          "iopub.status.idle": "2023-07-01T11:48:14.461364Z",
          "shell.execute_reply": "2023-07-01T11:48:14.460131Z"
        },
        "papermill": {
          "duration": 0.991013,
          "end_time": "2023-07-01T11:48:14.464335",
          "exception": false,
          "start_time": "2023-07-01T11:48:13.473322",
          "status": "completed"
        },
        "tags": [],
        "id": "1dd50196",
        "outputId": "69d7f0df-b11f-4dbd-a9b1-ee4bf322a84f"
      },
      "outputs": [
        {
          "data": {
            "image/png": "[encoded data removed]",
            "text/plain": [
              "<Figure size 640x480 with 1 Axes>"
            ]
          },
          "metadata": {},
          "output_type": "display_data"
        }
      ],
      "source": [
        "#num_words\n",
        "sns.histplot(df[df['target'] == 0]['num_words'], label='Non-spam')\n",
        "sns.histplot(df[df['target'] == 1]['num_words'], label='Spam')\n",
        "\n",
        "plt.xlabel('Number of words')\n",
        "plt.ylabel('Frequency')\n",
        "plt.title('Histogram of Number of words')\n",
        "\n",
        "plt.legend()\n",
        "\n",
        "plt.show()"
      ]
    },
    {
      "cell_type": "markdown",
      "id": "ca91fdd8",
      "metadata": {
        "execution": {
          "iopub.execute_input": "2023-06-29T13:11:06.965033Z",
          "iopub.status.busy": "2023-06-29T13:11:06.964508Z",
          "iopub.status.idle": "2023-06-29T13:11:06.973910Z",
          "shell.execute_reply": "2023-06-29T13:11:06.972190Z",
          "shell.execute_reply.started": "2023-06-29T13:11:06.964995Z"
        },
        "papermill": {
          "duration": 0.036721,
          "end_time": "2023-07-01T11:48:14.538631",
          "exception": false,
          "start_time": "2023-07-01T11:48:14.501910",
          "status": "completed"
        },
        "tags": [],
        "id": "ca91fdd8"
      },
      "source": [
        "Also,we have higher average counts for words in spam as compared to ham"
      ]
    },
    {
      "cell_type": "code",
      "execution_count": null,
      "id": "65ad6912",
      "metadata": {
        "execution": {
          "iopub.execute_input": "2023-07-01T11:48:14.615544Z",
          "iopub.status.busy": "2023-07-01T11:48:14.615098Z",
          "iopub.status.idle": "2023-07-01T11:48:15.844141Z",
          "shell.execute_reply": "2023-07-01T11:48:15.843254Z"
        },
        "papermill": {
          "duration": 1.270221,
          "end_time": "2023-07-01T11:48:15.846263",
          "exception": false,
          "start_time": "2023-07-01T11:48:14.576042",
          "status": "completed"
        },
        "tags": [],
        "id": "65ad6912",
        "outputId": "5081bb84-17aa-4d3b-e9d4-2e177beda05b"
      },
      "outputs": [
        {
          "data": {
            "image/png": "[encoded data removed]",
            "text/plain": [
              "<Figure size 1000x500 with 2 Axes>"
            ]
          },
          "metadata": {},
          "output_type": "display_data"
        }
      ],
      "source": [
        "# for num_sentences\n",
        "\n",
        "fig, axes = plt.subplots(1, 2, figsize=(10, 5))\n",
        "\n",
        "# Plot for non-spam messages\n",
        "sns.histplot(df[df['target'] == 0]['num_sentences'], ax=axes[0])\n",
        "axes[0].set_xlabel('Number of Sentences')\n",
        "axes[0].set_ylabel('Frequency')\n",
        "axes[0].set_title('Histogram of Number of Sentences (ham)')\n",
        "\n",
        "# Plot for spam messages\n",
        "sns.histplot(df[df['target'] == 1]['num_sentences'], ax=axes[1])\n",
        "axes[1].set_xlabel('Number of Sentences')\n",
        "axes[1].set_ylabel('Frequency')\n",
        "axes[1].set_title('Histogram of Number of Sentences (Spam)')\n",
        "\n",
        "plt.tight_layout()\n",
        "plt.show()\n"
      ]
    },
    {
      "cell_type": "markdown",
      "id": "f6eb8eb9",
      "metadata": {
        "papermill": {
          "duration": 0.037424,
          "end_time": "2023-07-01T11:48:15.921441",
          "exception": false,
          "start_time": "2023-07-01T11:48:15.884017",
          "status": "completed"
        },
        "tags": [],
        "id": "f6eb8eb9"
      },
      "source": [
        "**Need of correlation**\n",
        "\n",
        "Here's why correlation analysis is useful:\n",
        "\n",
        "1. Understanding Important Features: By examining the correlation between each feature and the spam/non-spam classification, we can determine which features are more important in distinguishing between spam and non-spam messages. For example, certain features like the number of exclamation marks or specific keywords may be strongly correlated with spam messages.\n",
        "\n",
        "2. Reducing Redundancy: Correlation analysis helps us identify if there are any features that are highly similar or redundant. Including highly correlated features in the classifier can lead to confusion and less accurate predictions. By identifying and removing redundant features, we can make the classifier more efficient and avoid repetition of similar information.\n",
        "\n",
        "3. Creating New Features: Correlation analysis can inspire the creation of new features. For example, if we find that the length of the subject line in an email is highly correlated with spam messages, we might create a new feature that represents the ratio of uppercase letters in the subject line. This new feature could potentially improve the classifier's ability to distinguish between spam and non-spam.\n",
        "\n",
        "4. Understanding Factors Behind Classification: Correlation analysis helps us interpret the results of the classifier. By examining the correlation between features and the spam/non-spam classification, we can gain insights into which factors are positively or negatively associated with spam or non-spam messages. This understanding allows us to explain why the classifier makes certain classification decisions.\n",
        "\n",
        "In summary, correlation analysis helps us identify important features, reduce redundancy, create new features, and understand the factors that contribute to the spam/non-spam classification. It is a useful tool in building an effective and interpretable spam/non-spam classifier."
      ]
    },
    {
      "cell_type": "code",
      "execution_count": null,
      "id": "51aafc97",
      "metadata": {
        "execution": {
          "iopub.execute_input": "2023-07-01T11:48:16.001777Z",
          "iopub.status.busy": "2023-07-01T11:48:16.000533Z",
          "iopub.status.idle": "2023-07-01T11:48:16.017969Z",
          "shell.execute_reply": "2023-07-01T11:48:16.016744Z"
        },
        "papermill": {
          "duration": 0.059779,
          "end_time": "2023-07-01T11:48:16.020086",
          "exception": false,
          "start_time": "2023-07-01T11:48:15.960307",
          "status": "completed"
        },
        "tags": [],
        "id": "51aafc97",
        "outputId": "af841795-ff86-4d73-cdf2-6dde2d3e9a10"
      },
      "outputs": [
        {
          "name": "stderr",
          "output_type": "stream",
          "text": [
            "/tmp/ipykernel_20/3876712518.py:2: FutureWarning: The default value of numeric_only in DataFrame.corr is deprecated. In a future version, it will default to False. Select only valid columns or specify the value of numeric_only to silence this warning.\n",
            "  df.corr()\n"
          ]
        },
        {
          "data": {
            "text/html": [
              "<div>\n",
              "<style scoped>\n",
              "    .dataframe tbody tr th:only-of-type {\n",
              "        vertical-align: middle;\n",
              "    }\n",
              "\n",
              "    .dataframe tbody tr th {\n",
              "        vertical-align: top;\n",
              "    }\n",
              "\n",
              "    .dataframe thead th {\n",
              "        text-align: right;\n",
              "    }\n",
              "</style>\n",
              "<table border=\"1\" class=\"dataframe\">\n",
              "  <thead>\n",
              "    <tr style=\"text-align: right;\">\n",
              "      <th></th>\n",
              "      <th>target</th>\n",
              "      <th>num_characters</th>\n",
              "      <th>num_words</th>\n",
              "      <th>num_sentences</th>\n",
              "    </tr>\n",
              "  </thead>\n",
              "  <tbody>\n",
              "    <tr>\n",
              "      <th>target</th>\n",
              "      <td>1.000000</td>\n",
              "      <td>0.384717</td>\n",
              "      <td>0.264198</td>\n",
              "      <td>0.267602</td>\n",
              "    </tr>\n",
              "    <tr>\n",
              "      <th>num_characters</th>\n",
              "      <td>0.384717</td>\n",
              "      <td>1.000000</td>\n",
              "      <td>0.965307</td>\n",
              "      <td>0.626118</td>\n",
              "    </tr>\n",
              "    <tr>\n",
              "      <th>num_words</th>\n",
              "      <td>0.264198</td>\n",
              "      <td>0.965307</td>\n",
              "      <td>1.000000</td>\n",
              "      <td>0.683561</td>\n",
              "    </tr>\n",
              "    <tr>\n",
              "      <th>num_sentences</th>\n",
              "      <td>0.267602</td>\n",
              "      <td>0.626118</td>\n",
              "      <td>0.683561</td>\n",
              "      <td>1.000000</td>\n",
              "    </tr>\n",
              "  </tbody>\n",
              "</table>\n",
              "</div>"
            ],
            "text/plain": [
              "                  target  num_characters  num_words  num_sentences\n",
              "target          1.000000        0.384717   0.264198       0.267602\n",
              "num_characters  0.384717        1.000000   0.965307       0.626118\n",
              "num_words       0.264198        0.965307   1.000000       0.683561\n",
              "num_sentences   0.267602        0.626118   0.683561       1.000000"
            ]
          },
          "execution_count": 26,
          "metadata": {},
          "output_type": "execute_result"
        }
      ],
      "source": [
        "#finding correlation\n",
        "df.corr()"
      ]
    },
    {
      "cell_type": "code",
      "execution_count": null,
      "id": "9d07437f",
      "metadata": {
        "execution": {
          "iopub.execute_input": "2023-07-01T11:48:16.101918Z",
          "iopub.status.busy": "2023-07-01T11:48:16.100922Z",
          "iopub.status.idle": "2023-07-01T11:48:16.515937Z",
          "shell.execute_reply": "2023-07-01T11:48:16.514733Z"
        },
        "papermill": {
          "duration": 0.458046,
          "end_time": "2023-07-01T11:48:16.518128",
          "exception": false,
          "start_time": "2023-07-01T11:48:16.060082",
          "status": "completed"
        },
        "tags": [],
        "id": "9d07437f",
        "outputId": "e79d8595-6ecc-4053-aea3-bf24a78f6caf"
      },
      "outputs": [
        {
          "name": "stderr",
          "output_type": "stream",
          "text": [
            "/tmp/ipykernel_20/383490316.py:2: FutureWarning: The default value of numeric_only in DataFrame.corr is deprecated. In a future version, it will default to False. Select only valid columns or specify the value of numeric_only to silence this warning.\n",
            "  sns.heatmap(df.corr(),annot=True)\n"
          ]
        },
        {
          "data": {
            "text/plain": [
              "<Axes: >"
            ]
          },
          "execution_count": 27,
          "metadata": {},
          "output_type": "execute_result"
        },
        {
          "data": {
            "image/png": "[encoded data removed]",
            "text/plain": [
              "<Figure size 640x480 with 2 Axes>"
            ]
          },
          "metadata": {},
          "output_type": "display_data"
        }
      ],
      "source": [
        "#visualize correlation\n",
        "sns.heatmap(df.corr(),annot=True)"
      ]
    },
    {
      "cell_type": "markdown",
      "id": "3cc8d23f",
      "metadata": {
        "papermill": {
          "duration": 0.038063,
          "end_time": "2023-07-01T11:48:16.594694",
          "exception": false,
          "start_time": "2023-07-01T11:48:16.556631",
          "status": "completed"
        },
        "tags": [],
        "id": "3cc8d23f"
      },
      "source": [
        "**Observation**\n",
        "\n",
        "1. Correlation between 'target' and other variables:\n",
        "\n",
        "   - 'target' has a positive correlation of 0.38 with 'num_characters', which means that as the number of characters in a message increases, the likelihood of the message being classified as spam also increases, to some extent.\n",
        "   - Similarly, 'target' has a positive correlation of 0.26 with 'num_words' and 0.27 with 'num_sentences'. This suggests that as the number of words or sentences in a message increases, the probability of the message being classified as spam also increases, but not as strongly as the correlation with 'num_characters'.\n",
        "\n",
        "2. Correlation between the numerical variables:\n",
        "\n",
        "   - 'num_characters' and 'num_words' have a strong positive correlation of 0.97, indicating that as the number of characters in a message increases, the number of words also tends to increase. This makes sense because longer messages typically contain more words.\n",
        "   - 'num_characters' and 'num_sentences' have a moderate positive correlation of 0.63. This suggests that as the number of characters in a message increases, the number of sentences tends to increase, but the relationship is not as strong as the correlation between 'num_characters' and 'num_words'.\n",
        "   - 'num_words' and 'num_sentences' also have a moderate positive correlation of 0.68, indicating that as the number of words in a message increases, the number of sentences tends to increase, but again, the relationship is not as strong as the correlation between 'num_characters' and 'num_words'.\n",
        "\n",
        "Overall, this correlation matrix provides insights into the relationships between the variables in the ham/spam classifier. It suggests that the length of the message, measured in terms of characters, words, and sentences, is somewhat correlated with the likelihood of the message being classified as spam. Additionally, there are correlations between the different length measures themselves, indicating some degree of interdependence between them."
      ]
    },
    {
      "cell_type": "markdown",
      "id": "f6aef124",
      "metadata": {
        "papermill": {
          "duration": 0.037659,
          "end_time": "2023-07-01T11:48:16.670198",
          "exception": false,
          "start_time": "2023-07-01T11:48:16.632539",
          "status": "completed"
        },
        "tags": [],
        "id": "f6aef124"
      },
      "source": [
        "# Text Pre-processing"
      ]
    },
    {
      "cell_type": "markdown",
      "id": "927bc6a1",
      "metadata": {
        "execution": {
          "iopub.execute_input": "2023-06-29T14:02:53.944235Z",
          "iopub.status.busy": "2023-06-29T14:02:53.942851Z",
          "iopub.status.idle": "2023-06-29T14:02:53.957032Z",
          "shell.execute_reply": "2023-06-29T14:02:53.955513Z",
          "shell.execute_reply.started": "2023-06-29T14:02:53.944188Z"
        },
        "papermill": {
          "duration": 0.037841,
          "end_time": "2023-07-01T11:48:16.746105",
          "exception": false,
          "start_time": "2023-07-01T11:48:16.708264",
          "status": "completed"
        },
        "tags": [],
        "id": "927bc6a1"
      },
      "source": [
        "**Need of Text_pre_processing**\n",
        "\n",
        "**Cleaning the Text:** Text data  may contain unnecessary elements like special characters, punctuation marks, or symbols that don't contribute to the classification. Preprocessing helps remove these elements, allowing the classifier to focus on the important words and patterns in the messages.\n",
        "\n",
        "**Standardizing Words:** Text can have different forms due to variations like pluralization or verb tense. Preprocessing techniques like stemming or lemmatization convert words to their base form, reducing variations and ensuring that similar words are treated the same. This makes it easier for the classifier to recognize common features across messages.\n",
        "\n",
        "**Removing Stop Words:** Stop words are common words like \"the,\" \"is,\" or \"and\" that occur frequently but don't carry much meaning in distinguishing spam from non-spam. Removing stop words helps reduce the complexity of the text and allows the classifier to focus on more informative words that can better differentiate between spam and non-spam messages.\n",
        "\n",
        "**Enhancing Efficiency:** Preprocessing techniques like removing unnecessary words, reducing variations, and cleaning the text help reduce the amount of data the classifier needs to analyze. This improves the efficiency of the classifier, allowing it to process and classify messages faster and more accurately.\n",
        "\n",
        "**Improving Accuracy:** By applying text preprocessing techniques, the ham/spam classifier can better identify important patterns and features that distinguish spam from non-spam messages. This leads to improved accuracy in classifying messages correctly, ensuring that spam messages are correctly identified and filtered out.\n",
        "\n",
        "In summary, text preprocessing is crucial  as it helps clean the text, standardize words, remove unnecessary elements, and improve efficiency. These steps allow the classifier to focus on the relevant content and patterns in the messages, leading to more accurate identification and classification of text"
      ]
    },
    {
      "cell_type": "markdown",
      "id": "cf36d80d",
      "metadata": {
        "papermill": {
          "duration": 0.037472,
          "end_time": "2023-07-01T11:48:16.822173",
          "exception": false,
          "start_time": "2023-07-01T11:48:16.784701",
          "status": "completed"
        },
        "tags": [],
        "id": "cf36d80d"
      },
      "source": [
        "Below are the steps we are taking to pre-process our text\n",
        "\n",
        "1. **Lowercasing:** Lowercasing involves converting all the text to lowercase letters. This step is necessary to ensure uniformity in the text data. For example, \"Hello\" and \"hello\" should be treated as the same word.\n",
        "\n",
        "2. **Tokenization:** Tokenization is the process of breaking down the text into individual words or tokens. It helps in splitting the text into meaningful units. For example, the sentence \"I love dogs\" would be tokenized into three separate tokens: \"I,\" \"love,\" and \"dogs.\"\n",
        "\n",
        "3. **Removing Special Characters:** Special characters such as punctuation marks, symbols, or any non-alphanumeric characters are often removed from the text. This step is performed to eliminate noise and focus on the essential textual content.\n",
        "\n",
        "4. **Removing Stop Words and Punctuation:** Stop words are common words like \"the,\" \"is,\" or \"and\" that do not carry significant meaning in the context of the text analysis. Removing stop words helps in reducing the dimensionality of the data and improving computational efficiency. Additionally, removing punctuation marks helps to further clean the text and remove any unnecessary symbols.\n",
        "\n",
        "5. **Stemming:** Stemming is the process of reducing words to their root or base form. It involves removing suffixes and transformations to obtain the core meaning of a word. For example, stemming would convert words like \"running,\" \"runs,\" and \"ran\" to their common base form, \"run.\" This step helps in standardizing the words and reducing the vocabulary size."
      ]
    },
    {
      "cell_type": "markdown",
      "id": "3dd090a5",
      "metadata": {
        "papermill": {
          "duration": 0.037634,
          "end_time": "2023-07-01T11:48:16.897532",
          "exception": false,
          "start_time": "2023-07-01T11:48:16.859898",
          "status": "completed"
        },
        "tags": [],
        "id": "3dd090a5"
      },
      "source": [
        "Lets do all the pre processing in the following code"
      ]
    },
    {
      "cell_type": "code",
      "execution_count": null,
      "id": "89149ebe",
      "metadata": {
        "execution": {
          "iopub.execute_input": "2023-07-01T11:48:16.976825Z",
          "iopub.status.busy": "2023-07-01T11:48:16.976021Z",
          "iopub.status.idle": "2023-07-01T11:48:16.986309Z",
          "shell.execute_reply": "2023-07-01T11:48:16.985351Z"
        },
        "papermill": {
          "duration": 0.052607,
          "end_time": "2023-07-01T11:48:16.988749",
          "exception": false,
          "start_time": "2023-07-01T11:48:16.936142",
          "status": "completed"
        },
        "tags": [],
        "id": "89149ebe"
      },
      "outputs": [],
      "source": [
        "import nltk\n",
        "from nltk.corpus import stopwords\n",
        "from nltk.stem import PorterStemmer\n",
        "import string\n",
        "\n",
        "# Function to transform the text\n",
        "def transform_text(text):\n",
        "    # Convert text to lowercase\n",
        "    text = text.lower()\n",
        "\n",
        "    # Tokenize the text into individual words\n",
        "    text = nltk.word_tokenize(text)\n",
        "\n",
        "    # Create an empty list to store filtered words\n",
        "    filtered_words = []\n",
        "\n",
        "    # Iterate over each word in the text\n",
        "    for word in text:\n",
        "        # Check if the word contains only alphanumeric characters\n",
        "        if word.isalnum():\n",
        "            # Add the word to the filtered list\n",
        "            filtered_words.append(word)\n",
        "\n",
        "    # Update the text with the filtered words\n",
        "    text = filtered_words[:]\n",
        "\n",
        "    # Clear the filtered words list for reuse\n",
        "    filtered_words.clear()\n",
        "\n",
        "    # Remove stop words and punctuation from the text\n",
        "    for word in text:\n",
        "        # Check if the word is not a stop word or punctuation mark\n",
        "        if word not in stopwords.words('english') and word not in string.punctuation:\n",
        "            # Add the word to the filtered list\n",
        "            filtered_words.append(word)\n",
        "\n",
        "    # Update the text with the filtered words\n",
        "    text = filtered_words[:]\n",
        "\n",
        "    # Clear the filtered words list for reuse\n",
        "    filtered_words.clear()\n",
        "\n",
        "    # Apply stemming to the words in the text\n",
        "    stemmer = PorterStemmer()\n",
        "    for word in text:\n",
        "        # Perform stemming on each word\n",
        "        stemmed_word = stemmer.stem(word)\n",
        "        # Add the stemmed word to the filtered list\n",
        "        filtered_words.append(stemmed_word)\n",
        "\n",
        "    # Join the filtered words to form the transformed text\n",
        "    transformed_text = \" \".join(filtered_words)\n",
        "\n",
        "    # Return the transformed text\n",
        "    return transformed_text\n"
      ]
    },
    {
      "cell_type": "code",
      "execution_count": null,
      "id": "b6edce84",
      "metadata": {
        "execution": {
          "iopub.execute_input": "2023-07-01T11:48:17.068994Z",
          "iopub.status.busy": "2023-07-01T11:48:17.068057Z",
          "iopub.status.idle": "2023-07-01T11:48:31.436881Z",
          "shell.execute_reply": "2023-07-01T11:48:31.435508Z"
        },
        "papermill": {
          "duration": 14.412943,
          "end_time": "2023-07-01T11:48:31.439842",
          "exception": false,
          "start_time": "2023-07-01T11:48:17.026899",
          "status": "completed"
        },
        "tags": [],
        "id": "b6edce84"
      },
      "outputs": [],
      "source": [
        "# Create a new column in the dataframe to store the transformed text\n",
        "df['transformed_text'] = df['text'].apply(transform_text)"
      ]
    },
    {
      "cell_type": "markdown",
      "id": "5cbae2c5",
      "metadata": {
        "papermill": {
          "duration": 0.037284,
          "end_time": "2023-07-01T11:48:31.515562",
          "exception": false,
          "start_time": "2023-07-01T11:48:31.478278",
          "status": "completed"
        },
        "tags": [],
        "id": "5cbae2c5"
      },
      "source": [
        "Above code  adds a new column called 'transformed_text' to the dataframe (df) and applies the 'transform_text' function to each element in the 'text' column. The 'transform_text' function is responsible for transforming the text by converting it to lowercase, tokenizing it into individual words, removing non-alphanumeric characters, filtering out stop words and punctuation, performing stemming, and joining the filtered words back into a transformed text. <br>\n",
        "By using the 'apply' method, the 'transform_text' function is applied to each element of the 'text' column, and the resulting transformed text is stored in the 'transformed_text' column."
      ]
    },
    {
      "cell_type": "code",
      "execution_count": null,
      "id": "00633cd8",
      "metadata": {
        "execution": {
          "iopub.execute_input": "2023-07-01T11:48:31.594928Z",
          "iopub.status.busy": "2023-07-01T11:48:31.594397Z",
          "iopub.status.idle": "2023-07-01T11:48:31.608621Z",
          "shell.execute_reply": "2023-07-01T11:48:31.607480Z"
        },
        "papermill": {
          "duration": 0.057386,
          "end_time": "2023-07-01T11:48:31.610877",
          "exception": false,
          "start_time": "2023-07-01T11:48:31.553491",
          "status": "completed"
        },
        "tags": [],
        "id": "00633cd8",
        "outputId": "190f8d59-8205-4278-991d-d44bbe43b8fa"
      },
      "outputs": [
        {
          "data": {
            "text/html": [
              "<div>\n",
              "<style scoped>\n",
              "    .dataframe tbody tr th:only-of-type {\n",
              "        vertical-align: middle;\n",
              "    }\n",
              "\n",
              "    .dataframe tbody tr th {\n",
              "        vertical-align: top;\n",
              "    }\n",
              "\n",
              "    .dataframe thead th {\n",
              "        text-align: right;\n",
              "    }\n",
              "</style>\n",
              "<table border=\"1\" class=\"dataframe\">\n",
              "  <thead>\n",
              "    <tr style=\"text-align: right;\">\n",
              "      <th></th>\n",
              "      <th>target</th>\n",
              "      <th>text</th>\n",
              "      <th>num_characters</th>\n",
              "      <th>num_words</th>\n",
              "      <th>num_sentences</th>\n",
              "      <th>transformed_text</th>\n",
              "    </tr>\n",
              "  </thead>\n",
              "  <tbody>\n",
              "    <tr>\n",
              "      <th>0</th>\n",
              "      <td>0</td>\n",
              "      <td>Go until jurong point, crazy.. Available only ...</td>\n",
              "      <td>111</td>\n",
              "      <td>23</td>\n",
              "      <td>2</td>\n",
              "      <td>go jurong point avail bugi n great world la e ...</td>\n",
              "    </tr>\n",
              "    <tr>\n",
              "      <th>1</th>\n",
              "      <td>0</td>\n",
              "      <td>Ok lar... Joking wif u oni...</td>\n",
              "      <td>29</td>\n",
              "      <td>8</td>\n",
              "      <td>2</td>\n",
              "      <td>ok lar joke wif u oni</td>\n",
              "    </tr>\n",
              "  </tbody>\n",
              "</table>\n",
              "</div>"
            ],
            "text/plain": [
              "   target                                               text  num_characters  \\\n",
              "0       0  Go until jurong point, crazy.. Available only ...             111   \n",
              "1       0                      Ok lar... Joking wif u oni...              29   \n",
              "\n",
              "   num_words  num_sentences                                   transformed_text  \n",
              "0         23              2  go jurong point avail bugi n great world la e ...  \n",
              "1          8              2                              ok lar joke wif u oni  "
            ]
          },
          "execution_count": 30,
          "metadata": {},
          "output_type": "execute_result"
        }
      ],
      "source": [
        "df.head(2)"
      ]
    },
    {
      "cell_type": "markdown",
      "id": "45dbd519",
      "metadata": {
        "papermill": {
          "duration": 0.037708,
          "end_time": "2023-07-01T11:48:31.687069",
          "exception": false,
          "start_time": "2023-07-01T11:48:31.649361",
          "status": "completed"
        },
        "tags": [],
        "id": "45dbd519"
      },
      "source": [
        "Now,Lets visualize what are frequent words in both Ham and spam"
      ]
    },
    {
      "cell_type": "markdown",
      "id": "8aeac669",
      "metadata": {
        "papermill": {
          "duration": 0.037497,
          "end_time": "2023-07-01T11:48:31.763100",
          "exception": false,
          "start_time": "2023-07-01T11:48:31.725603",
          "status": "completed"
        },
        "tags": [],
        "id": "8aeac669"
      },
      "source": [
        "**Word cloud**\n",
        "\n",
        "A word cloud is a visual representation of text data where the size of each word indicates its frequency or importance in the given text. It helps to visually highlight the most common or significant words in a text document.\n",
        "\n",
        "Imagine you have a document filled with lots of words. A word cloud takes those words and shows them in a visually appealing way. The more frequent a word appears in the document, the larger and bolder it appears in the word cloud.\n",
        "\n",
        "For example, let's say you have a collection of customer reviews about a product. By creating a word cloud, you can quickly see which words are used most frequently by customers to describe their experience with the product. The words that appear larger in the word cloud are the ones that are mentioned more often by customers, indicating that those words are significant or commonly associated with the product."
      ]
    },
    {
      "cell_type": "code",
      "execution_count": null,
      "id": "edbadf8c",
      "metadata": {
        "execution": {
          "iopub.execute_input": "2023-07-01T11:48:31.845524Z",
          "iopub.status.busy": "2023-07-01T11:48:31.844718Z",
          "iopub.status.idle": "2023-07-01T11:48:31.869315Z",
          "shell.execute_reply": "2023-07-01T11:48:31.868108Z"
        },
        "papermill": {
          "duration": 0.070994,
          "end_time": "2023-07-01T11:48:31.872456",
          "exception": false,
          "start_time": "2023-07-01T11:48:31.801462",
          "status": "completed"
        },
        "tags": [],
        "id": "edbadf8c"
      },
      "outputs": [],
      "source": [
        "from wordcloud import WordCloud\n",
        "wc=WordCloud(width=500,height=500,min_font_size=10,background_color='white')"
      ]
    },
    {
      "cell_type": "code",
      "execution_count": null,
      "id": "0946e4b9",
      "metadata": {
        "execution": {
          "iopub.execute_input": "2023-07-01T11:48:31.954206Z",
          "iopub.status.busy": "2023-07-01T11:48:31.953759Z",
          "iopub.status.idle": "2023-07-01T11:48:32.630384Z",
          "shell.execute_reply": "2023-07-01T11:48:32.629307Z"
        },
        "papermill": {
          "duration": 0.720956,
          "end_time": "2023-07-01T11:48:32.633628",
          "exception": false,
          "start_time": "2023-07-01T11:48:31.912672",
          "status": "completed"
        },
        "tags": [],
        "id": "0946e4b9",
        "outputId": "7372aafe-ada9-4c2a-ad4a-3711ee8e2db8"
      },
      "outputs": [
        {
          "data": {
            "image/png": "[encoded data removed]",
            "text/plain": [
              "<Figure size 1000x500 with 1 Axes>"
            ]
          },
          "metadata": {},
          "output_type": "display_data"
        }
      ],
      "source": [
        "#generating Word cloud for only Spam words\n",
        "spam_wc = wc.generate(df[df['target'] == 1]['transformed_text'].str.cat(sep=\" \"))\n",
        "plt.figure(figsize=(10,5))\n",
        "plt.imshow(spam_wc)\n",
        "plt.show()"
      ]
    },
    {
      "cell_type": "code",
      "execution_count": null,
      "id": "5abff020",
      "metadata": {
        "execution": {
          "iopub.execute_input": "2023-07-01T11:48:32.720587Z",
          "iopub.status.busy": "2023-07-01T11:48:32.720112Z",
          "iopub.status.idle": "2023-07-01T11:48:33.923013Z",
          "shell.execute_reply": "2023-07-01T11:48:33.921564Z"
        },
        "papermill": {
          "duration": 1.251158,
          "end_time": "2023-07-01T11:48:33.927673",
          "exception": false,
          "start_time": "2023-07-01T11:48:32.676515",
          "status": "completed"
        },
        "tags": [],
        "id": "5abff020",
        "outputId": "bed21710-4a16-419d-a54f-2d936eeea450"
      },
      "outputs": [
        {
          "data": {
            "image/png": "[encoded data removed]",
            "text/plain": [
              "<Figure size 1000x500 with 1 Axes>"
            ]
          },
          "metadata": {},
          "output_type": "display_data"
        }
      ],
      "source": [
        "#generating Word cloud for only ham words\n",
        "\n",
        "ham_wc = wc.generate(df[df['target'] == 0]['transformed_text'].str.cat(sep=\" \"))\n",
        "plt.figure(figsize=(10,5))\n",
        "plt.imshow(ham_wc)\n",
        "plt.show()"
      ]
    },
    {
      "cell_type": "markdown",
      "id": "e65944e6",
      "metadata": {
        "papermill": {
          "duration": 0.044543,
          "end_time": "2023-07-01T11:48:34.018259",
          "exception": false,
          "start_time": "2023-07-01T11:48:33.973716",
          "status": "completed"
        },
        "tags": [],
        "id": "e65944e6"
      },
      "source": [
        "**Lets find top 25 words from both ham and spam text**"
      ]
    },
    {
      "cell_type": "code",
      "execution_count": null,
      "id": "88bf7a4b",
      "metadata": {
        "execution": {
          "iopub.execute_input": "2023-07-01T11:48:34.111396Z",
          "iopub.status.busy": "2023-07-01T11:48:34.110943Z",
          "iopub.status.idle": "2023-07-01T11:48:34.123694Z",
          "shell.execute_reply": "2023-07-01T11:48:34.122493Z"
        },
        "papermill": {
          "duration": 0.062325,
          "end_time": "2023-07-01T11:48:34.126129",
          "exception": false,
          "start_time": "2023-07-01T11:48:34.063804",
          "status": "completed"
        },
        "tags": [],
        "id": "88bf7a4b",
        "outputId": "125f0eb3-b096-4857-f7a7-1a0d262bac72"
      },
      "outputs": [
        {
          "data": {
            "text/html": [
              "<div>\n",
              "<style scoped>\n",
              "    .dataframe tbody tr th:only-of-type {\n",
              "        vertical-align: middle;\n",
              "    }\n",
              "\n",
              "    .dataframe tbody tr th {\n",
              "        vertical-align: top;\n",
              "    }\n",
              "\n",
              "    .dataframe thead th {\n",
              "        text-align: right;\n",
              "    }\n",
              "</style>\n",
              "<table border=\"1\" class=\"dataframe\">\n",
              "  <thead>\n",
              "    <tr style=\"text-align: right;\">\n",
              "      <th></th>\n",
              "      <th>target</th>\n",
              "      <th>text</th>\n",
              "      <th>num_characters</th>\n",
              "      <th>num_words</th>\n",
              "      <th>num_sentences</th>\n",
              "      <th>transformed_text</th>\n",
              "    </tr>\n",
              "  </thead>\n",
              "  <tbody>\n",
              "    <tr>\n",
              "      <th>0</th>\n",
              "      <td>0</td>\n",
              "      <td>Go until jurong point, crazy.. Available only ...</td>\n",
              "      <td>111</td>\n",
              "      <td>23</td>\n",
              "      <td>2</td>\n",
              "      <td>go jurong point avail bugi n great world la e ...</td>\n",
              "    </tr>\n",
              "  </tbody>\n",
              "</table>\n",
              "</div>"
            ],
            "text/plain": [
              "   target                                               text  num_characters  \\\n",
              "0       0  Go until jurong point, crazy.. Available only ...             111   \n",
              "\n",
              "   num_words  num_sentences                                   transformed_text  \n",
              "0         23              2  go jurong point avail bugi n great world la e ...  "
            ]
          },
          "execution_count": 34,
          "metadata": {},
          "output_type": "execute_result"
        }
      ],
      "source": [
        "df.head(1)"
      ]
    },
    {
      "cell_type": "markdown",
      "id": "1a5b2e1c",
      "metadata": {
        "execution": {
          "iopub.execute_input": "2023-06-29T16:18:52.132545Z",
          "iopub.status.busy": "2023-06-29T16:18:52.131892Z",
          "iopub.status.idle": "2023-06-29T16:18:52.139903Z",
          "shell.execute_reply": "2023-06-29T16:18:52.138718Z",
          "shell.execute_reply.started": "2023-06-29T16:18:52.132504Z"
        },
        "papermill": {
          "duration": 0.042735,
          "end_time": "2023-07-01T11:48:34.212648",
          "exception": false,
          "start_time": "2023-07-01T11:48:34.169913",
          "status": "completed"
        },
        "tags": [],
        "id": "1a5b2e1c"
      },
      "source": [
        "**Top 25 words from ham corpus**"
      ]
    },
    {
      "cell_type": "code",
      "execution_count": null,
      "id": "1bf97733",
      "metadata": {
        "execution": {
          "iopub.execute_input": "2023-07-01T11:48:34.300884Z",
          "iopub.status.busy": "2023-07-01T11:48:34.300432Z",
          "iopub.status.idle": "2023-07-01T11:48:34.318703Z",
          "shell.execute_reply": "2023-07-01T11:48:34.317732Z"
        },
        "papermill": {
          "duration": 0.065156,
          "end_time": "2023-07-01T11:48:34.320917",
          "exception": false,
          "start_time": "2023-07-01T11:48:34.255761",
          "status": "completed"
        },
        "tags": [],
        "id": "1bf97733"
      },
      "outputs": [],
      "source": [
        "ham_frequncy = []  # Create an empty list to store the words from ham messages\n",
        "# Iterate over each message in the transformed_text column of ham messages\n",
        "for msg in df[df['target'] == 0]['transformed_text'].to_list():\n",
        "    # Split the message into individual words\n",
        "    for word in msg.split():\n",
        "        # Append each word to the ham_frequncy list\n",
        "        ham_frequncy.append(word)\n"
      ]
    },
    {
      "cell_type": "markdown",
      "id": "7c3f3597",
      "metadata": {
        "papermill": {
          "duration": 0.043466,
          "end_time": "2023-07-01T11:48:34.409842",
          "exception": false,
          "start_time": "2023-07-01T11:48:34.366376",
          "status": "completed"
        },
        "tags": [],
        "id": "7c3f3597"
      },
      "source": [
        "Above code goes through each transformed text message in the \"ham\" category and splits it into individual words. <br>\n",
        "It then adds each word to the ham_frequncy list. <br>\n",
        "ham_frequncy will contain all the words from the \"ham\" messages, allowing you to analyze their frequency or perform further processing."
      ]
    },
    {
      "cell_type": "code",
      "execution_count": null,
      "id": "c5325ed6",
      "metadata": {
        "execution": {
          "iopub.execute_input": "2023-07-01T11:48:34.498332Z",
          "iopub.status.busy": "2023-07-01T11:48:34.497934Z",
          "iopub.status.idle": "2023-07-01T11:48:34.929304Z",
          "shell.execute_reply": "2023-07-01T11:48:34.928004Z"
        },
        "papermill": {
          "duration": 0.478806,
          "end_time": "2023-07-01T11:48:34.932173",
          "exception": false,
          "start_time": "2023-07-01T11:48:34.453367",
          "status": "completed"
        },
        "tags": [],
        "id": "c5325ed6",
        "outputId": "f2ad5eda-0c6c-4dc7-e4fb-04462869e2db"
      },
      "outputs": [
        {
          "data": {
            "image/png": "[encoded data removed]",
            "text/plain": [
              "<Figure size 640x480 with 1 Axes>"
            ]
          },
          "metadata": {},
          "output_type": "display_data"
        }
      ],
      "source": [
        "from collections import Counter\n",
        "# Count the frequency of each word in the ham_frequncy list\n",
        "word_frequency = Counter(ham_frequncy)\n",
        "\n",
        "# Retrieve the 25 most common words along with their frequencies\n",
        "most_common_words = word_frequency.most_common(25)\n",
        "\n",
        "# Create a dataframe from the most_common_words list\n",
        "df_most_common = pd.DataFrame(most_common_words, columns=['Word', 'Frequency'])\n",
        "\n",
        "# Plot the bar plot\n",
        "sns.barplot(data=df_most_common, x='Word', y='Frequency')\n",
        "plt.xticks(rotation='vertical')\n",
        "plt.show()\n"
      ]
    },
    {
      "cell_type": "markdown",
      "id": "8acda728",
      "metadata": {
        "papermill": {
          "duration": 0.045215,
          "end_time": "2023-07-01T11:48:35.023711",
          "exception": false,
          "start_time": "2023-07-01T11:48:34.978496",
          "status": "completed"
        },
        "tags": [],
        "id": "8acda728"
      },
      "source": [
        "**Top 25 words from Spam corpus**"
      ]
    },
    {
      "cell_type": "code",
      "execution_count": null,
      "id": "1e19c6bc",
      "metadata": {
        "execution": {
          "iopub.execute_input": "2023-07-01T11:48:35.118380Z",
          "iopub.status.busy": "2023-07-01T11:48:35.116917Z",
          "iopub.status.idle": "2023-07-01T11:48:35.128444Z",
          "shell.execute_reply": "2023-07-01T11:48:35.127033Z"
        },
        "papermill": {
          "duration": 0.061882,
          "end_time": "2023-07-01T11:48:35.131259",
          "exception": false,
          "start_time": "2023-07-01T11:48:35.069377",
          "status": "completed"
        },
        "tags": [],
        "id": "1e19c6bc"
      },
      "outputs": [],
      "source": [
        "spam_frequncy = []  # Create an empty list to store the words from ham messages\n",
        "# Iterate over each message in the transformed_text column of ham messages\n",
        "for msg in df[df['target'] == 1]['transformed_text'].to_list():\n",
        "    # Split the message into individual words\n",
        "    for word in msg.split():\n",
        "        # Append each word to the ham_frequncy list\n",
        "        spam_frequncy.append(word)"
      ]
    },
    {
      "cell_type": "code",
      "execution_count": null,
      "id": "f2e8e72e",
      "metadata": {
        "execution": {
          "iopub.execute_input": "2023-07-01T11:48:35.222523Z",
          "iopub.status.busy": "2023-07-01T11:48:35.222070Z",
          "iopub.status.idle": "2023-07-01T11:48:35.665733Z",
          "shell.execute_reply": "2023-07-01T11:48:35.664524Z"
        },
        "papermill": {
          "duration": 0.492591,
          "end_time": "2023-07-01T11:48:35.668321",
          "exception": false,
          "start_time": "2023-07-01T11:48:35.175730",
          "status": "completed"
        },
        "tags": [],
        "id": "f2e8e72e",
        "outputId": "36f415a8-5fe8-4155-a4ff-7c6d0774cea8"
      },
      "outputs": [
        {
          "data": {
            "image/png": "[encoded data removed]",
            "text/plain": [
              "<Figure size 640x480 with 1 Axes>"
            ]
          },
          "metadata": {},
          "output_type": "display_data"
        }
      ],
      "source": [
        "# Count the frequency of each word in the spam_frequncy list\n",
        "word_frequency = Counter(spam_frequncy)\n",
        "\n",
        "# Retrieve the 25 most common words along with their frequencies\n",
        "most_common_words_spam = word_frequency.most_common(25)\n",
        "\n",
        "# Create a dataframe from the most_common_words list\n",
        "df_most_common_spam = pd.DataFrame(most_common_words_spam, columns=['Word', 'Frequency'])\n",
        "\n",
        "# Plot the bar plot\n",
        "sns.barplot(data=df_most_common_spam, x='Word', y='Frequency')\n",
        "plt.xticks(rotation='vertical')\n",
        "plt.show()\n"
      ]
    },
    {
      "cell_type": "markdown",
      "id": "927caddd",
      "metadata": {
        "papermill": {
          "duration": 0.044562,
          "end_time": "2023-07-01T11:48:35.757712",
          "exception": false,
          "start_time": "2023-07-01T11:48:35.713150",
          "status": "completed"
        },
        "tags": [],
        "id": "927caddd"
      },
      "source": [
        "# Model Building"
      ]
    },
    {
      "cell_type": "markdown",
      "id": "a3f3691f",
      "metadata": {
        "papermill": {
          "duration": 0.045004,
          "end_time": "2023-07-01T11:48:35.848125",
          "exception": false,
          "start_time": "2023-07-01T11:48:35.803121",
          "status": "completed"
        },
        "tags": [],
        "id": "a3f3691f"
      },
      "source": [
        "## Vectorization"
      ]
    },
    {
      "cell_type": "markdown",
      "id": "95ce9adf",
      "metadata": {
        "papermill": {
          "duration": 0.0446,
          "end_time": "2023-07-01T11:48:35.938850",
          "exception": false,
          "start_time": "2023-07-01T11:48:35.894250",
          "status": "completed"
        },
        "tags": [],
        "id": "95ce9adf"
      },
      "source": [
        "In NLP, the ultimate goal is to enable computers to understand and work with human language. However, computers primarily operate on numerical data. So, to bridge the gap between human language and computational algorithms, we need to convert text into a numerical format that machines can process effectively. This is where vectorization comes into play.\n",
        "\n",
        "By converting text into numerical vectors, we can apply machine learning algorithms, perform mathematical operations, extract meaningful features, and process large amounts of text data effectively. It helps machines \"translate\" human language into a format they can comprehend and work with, enabling a wide range of applications, from language translation and sentiment analysis to chatbots and text summarization."
      ]
    },
    {
      "cell_type": "markdown",
      "id": "54800fd8",
      "metadata": {
        "execution": {
          "iopub.execute_input": "2023-06-29T16:46:04.722835Z",
          "iopub.status.busy": "2023-06-29T16:46:04.721690Z",
          "iopub.status.idle": "2023-06-29T16:46:04.731043Z",
          "shell.execute_reply": "2023-06-29T16:46:04.729054Z",
          "shell.execute_reply.started": "2023-06-29T16:46:04.722761Z"
        },
        "papermill": {
          "duration": 0.045026,
          "end_time": "2023-07-01T11:48:36.028941",
          "exception": false,
          "start_time": "2023-07-01T11:48:35.983915",
          "status": "completed"
        },
        "tags": [],
        "id": "54800fd8"
      },
      "source": [
        "## Bag of Words Vectorization\n",
        "\n",
        "Refer below link for better understanding\n",
        "\n",
        "https://www.kaggle.com/code/adityaghuse/movie-recommendation-beginner-friendly?scriptVersionId=135129626&cellId=52"
      ]
    },
    {
      "cell_type": "markdown",
      "id": "f9b59bf2",
      "metadata": {
        "papermill": {
          "duration": 0.046384,
          "end_time": "2023-07-01T11:48:36.121793",
          "exception": false,
          "start_time": "2023-07-01T11:48:36.075409",
          "status": "completed"
        },
        "tags": [],
        "id": "f9b59bf2"
      },
      "source": [
        "Lets implement BOW vectorization on our text"
      ]
    },
    {
      "cell_type": "code",
      "execution_count": null,
      "id": "746e0c23",
      "metadata": {
        "execution": {
          "iopub.execute_input": "2023-07-01T11:48:36.218088Z",
          "iopub.status.busy": "2023-07-01T11:48:36.217316Z",
          "iopub.status.idle": "2023-07-01T11:48:36.222622Z",
          "shell.execute_reply": "2023-07-01T11:48:36.221847Z"
        },
        "papermill": {
          "duration": 0.056357,
          "end_time": "2023-07-01T11:48:36.224875",
          "exception": false,
          "start_time": "2023-07-01T11:48:36.168518",
          "status": "completed"
        },
        "tags": [],
        "id": "746e0c23"
      },
      "outputs": [],
      "source": [
        "#we are taking most frequent 5000 words from the vocabulary\n",
        "from sklearn.feature_extraction.text import CountVectorizer\n",
        "cv = CountVectorizer()"
      ]
    },
    {
      "cell_type": "markdown",
      "id": "198b5cb7",
      "metadata": {
        "papermill": {
          "duration": 0.044996,
          "end_time": "2023-07-01T11:48:36.315727",
          "exception": false,
          "start_time": "2023-07-01T11:48:36.270731",
          "status": "completed"
        },
        "tags": [],
        "id": "198b5cb7"
      },
      "source": [
        "Below code takes the text data in df['transformed_text'], converts it into a numerical representation using CountVectorizer, and stores the transformed data in the variable X as a 2D array.<br>\n",
        "Each row in X corresponds to a text sample, and each column represents a specific word or term from the vocabulary of the text data. The values in the array indicate the frequency or presence of each word or term in the respective text sample."
      ]
    },
    {
      "cell_type": "code",
      "execution_count": null,
      "id": "4f27aec1",
      "metadata": {
        "execution": {
          "iopub.execute_input": "2023-07-01T11:48:36.411021Z",
          "iopub.status.busy": "2023-07-01T11:48:36.410097Z",
          "iopub.status.idle": "2023-07-01T11:48:36.613174Z",
          "shell.execute_reply": "2023-07-01T11:48:36.611850Z"
        },
        "papermill": {
          "duration": 0.253535,
          "end_time": "2023-07-01T11:48:36.616501",
          "exception": false,
          "start_time": "2023-07-01T11:48:36.362966",
          "status": "completed"
        },
        "tags": [],
        "id": "4f27aec1"
      },
      "outputs": [],
      "source": [
        "# Transform the text data into a numerical representation using CountVectorizer\n",
        "#and convert it into a 2D array\n",
        "X = cv.fit_transform(df['transformed_text']).toarray()\n"
      ]
    },
    {
      "cell_type": "markdown",
      "id": "8d583d3e",
      "metadata": {
        "execution": {
          "iopub.execute_input": "2023-06-30T17:22:15.655654Z",
          "iopub.status.busy": "2023-06-30T17:22:15.655233Z",
          "iopub.status.idle": "2023-06-30T17:22:15.668304Z",
          "shell.execute_reply": "2023-06-30T17:22:15.667029Z",
          "shell.execute_reply.started": "2023-06-30T17:22:15.655624Z"
        },
        "papermill": {
          "duration": 0.051286,
          "end_time": "2023-07-01T11:48:36.714067",
          "exception": false,
          "start_time": "2023-07-01T11:48:36.662781",
          "status": "completed"
        },
        "tags": [],
        "id": "8d583d3e"
      },
      "source": [
        "**Need of .toarray()**\n",
        "\n",
        "When we use the **fit_transform()** method of the CountVectorizer, it transforms the text data into a numerical representation known as a sparse matrix. A sparse matrix only stores the non-zero elements, which is an efficient way to represent text data since most text samples will only contain a small subset of all possible words.\n",
        "\n",
        "However, in some cases, we might need to work with the transformed data in a different format. By using the .toarray() method, we convert the sparse matrix into a 2D array (an array of arrays). Each row in the array corresponds to a text sample, and each column represents a specific word or term from the vocabulary of the text data. The values in the array indicate the frequency or presence of each word or term in the respective text sample.\n",
        "\n",
        "Converting the sparse matrix to a 2D array makes it easier to perform certain operations or calculations on the data. It allows us to access individual elements directly and perform various computations. Therefore, using .toarray() provides a more accessible and intuitive representation of the transformed text data, especially for tasks that require array-based operations.\n",
        "\n",
        "In summary, the .toarray() method is used to convert the transformed text data from a sparse matrix representation to a 2D array, making it easier to work with and manipulate the data in various ways.\n",
        "\n",
        "\n",
        "\n",
        "\n",
        "\n",
        "\n"
      ]
    },
    {
      "cell_type": "code",
      "execution_count": null,
      "id": "b18e4421",
      "metadata": {
        "execution": {
          "iopub.execute_input": "2023-07-01T11:48:36.804241Z",
          "iopub.status.busy": "2023-07-01T11:48:36.803828Z",
          "iopub.status.idle": "2023-07-01T11:48:36.810975Z",
          "shell.execute_reply": "2023-07-01T11:48:36.809881Z"
        },
        "papermill": {
          "duration": 0.05463,
          "end_time": "2023-07-01T11:48:36.813171",
          "exception": false,
          "start_time": "2023-07-01T11:48:36.758541",
          "status": "completed"
        },
        "tags": [],
        "id": "b18e4421",
        "outputId": "0c4c2709-f7a2-492b-85f6-909e55651a31"
      },
      "outputs": [
        {
          "data": {
            "text/plain": [
              "(5169, 6629)"
            ]
          },
          "execution_count": 41,
          "metadata": {},
          "output_type": "execute_result"
        }
      ],
      "source": [
        "X.shape"
      ]
    },
    {
      "cell_type": "markdown",
      "id": "469a83c5",
      "metadata": {
        "papermill": {
          "duration": 0.045514,
          "end_time": "2023-07-01T11:48:36.904695",
          "exception": false,
          "start_time": "2023-07-01T11:48:36.859181",
          "status": "completed"
        },
        "tags": [],
        "id": "469a83c5"
      },
      "source": [
        "In this case, (5169, 5000) means that X is a 2D array with 5169 rows and 5000 columns. Each row corresponds to a text sample in the df['transformed_text'] data, and each column represents a specific word or term from the vocabulary.\n",
        "\n",
        "The number of rows, 5169, indicates that there are 5169 text samples in the dataset. Each row in X corresponds to a unique text sample.\n",
        "\n",
        "The number of columns, 5000, represents the size of the vocabulary used for the transformation. This means that the CountVectorizer identified 5000 unique words or terms in the df['transformed_text'] data."
      ]
    },
    {
      "cell_type": "code",
      "execution_count": null,
      "id": "c351d0c9",
      "metadata": {
        "execution": {
          "iopub.execute_input": "2023-07-01T11:48:36.998274Z",
          "iopub.status.busy": "2023-07-01T11:48:36.997594Z",
          "iopub.status.idle": "2023-07-01T11:48:37.001782Z",
          "shell.execute_reply": "2023-07-01T11:48:37.001009Z"
        },
        "papermill": {
          "duration": 0.053892,
          "end_time": "2023-07-01T11:48:37.004271",
          "exception": false,
          "start_time": "2023-07-01T11:48:36.950379",
          "status": "completed"
        },
        "tags": [],
        "id": "c351d0c9"
      },
      "outputs": [],
      "source": [
        "# Extract the values from the 'target' column of the DataFrame and store them in variable 'y'\n",
        "y = df['target'].values"
      ]
    },
    {
      "cell_type": "markdown",
      "id": "8bcec2d4",
      "metadata": {
        "papermill": {
          "duration": 0.049837,
          "end_time": "2023-07-01T11:48:37.100723",
          "exception": false,
          "start_time": "2023-07-01T11:48:37.050886",
          "status": "completed"
        },
        "tags": [],
        "id": "8bcec2d4"
      },
      "source": [
        "**Train Test Split**\n",
        "\n",
        "When working with machine learning, it's important to evaluate the performance of the models we build. To do that, we need to assess how well the model generalizes to unseen data. This is where the train_test_split function comes into play.\n",
        "\n",
        "Imagine you have a dataset with input features (X) and corresponding target values (y). The train_test_split function allows you to split this dataset into two separate parts: a training set and a testing set."
      ]
    },
    {
      "cell_type": "code",
      "execution_count": null,
      "id": "97e7da13",
      "metadata": {
        "execution": {
          "iopub.execute_input": "2023-07-01T11:48:37.195852Z",
          "iopub.status.busy": "2023-07-01T11:48:37.195085Z",
          "iopub.status.idle": "2023-07-01T11:48:37.199333Z",
          "shell.execute_reply": "2023-07-01T11:48:37.198548Z"
        },
        "papermill": {
          "duration": 0.05368,
          "end_time": "2023-07-01T11:48:37.201550",
          "exception": false,
          "start_time": "2023-07-01T11:48:37.147870",
          "status": "completed"
        },
        "tags": [],
        "id": "97e7da13"
      },
      "outputs": [],
      "source": [
        "from sklearn.model_selection import train_test_split"
      ]
    },
    {
      "cell_type": "code",
      "execution_count": null,
      "id": "27d98b3d",
      "metadata": {
        "execution": {
          "iopub.execute_input": "2023-07-01T11:48:37.295926Z",
          "iopub.status.busy": "2023-07-01T11:48:37.295171Z",
          "iopub.status.idle": "2023-07-01T11:48:37.463299Z",
          "shell.execute_reply": "2023-07-01T11:48:37.462335Z"
        },
        "papermill": {
          "duration": 0.218219,
          "end_time": "2023-07-01T11:48:37.466120",
          "exception": false,
          "start_time": "2023-07-01T11:48:37.247901",
          "status": "completed"
        },
        "tags": [],
        "id": "27d98b3d"
      },
      "outputs": [],
      "source": [
        "# Splitting the data into training and testing sets\n",
        "# X represents the input features and y represents the target variable\n",
        "# The data is split into a training set and a testing set\n",
        "# The testing set size is set to 20% of the entire dataset\n",
        "# The random_state parameter is set to 2 to ensure reproducibility of the split\n",
        "X_train, X_test, y_train, y_test = train_test_split(X, y, test_size=0.2, random_state=2)\n"
      ]
    },
    {
      "cell_type": "markdown",
      "id": "80d42b2e",
      "metadata": {
        "execution": {
          "iopub.execute_input": "2023-07-01T09:16:02.547887Z",
          "iopub.status.busy": "2023-07-01T09:16:02.547065Z",
          "iopub.status.idle": "2023-07-01T09:16:02.559301Z",
          "shell.execute_reply": "2023-07-01T09:16:02.557425Z",
          "shell.execute_reply.started": "2023-07-01T09:16:02.547834Z"
        },
        "papermill": {
          "duration": 0.045102,
          "end_time": "2023-07-01T11:48:37.556980",
          "exception": false,
          "start_time": "2023-07-01T11:48:37.511878",
          "status": "completed"
        },
        "tags": [],
        "id": "80d42b2e"
      },
      "source": [
        "**Precision Score**"
      ]
    },
    {
      "cell_type": "markdown",
      "id": "d180f8bf",
      "metadata": {
        "papermill": {
          "duration": 0.04542,
          "end_time": "2023-07-01T11:48:37.648280",
          "exception": false,
          "start_time": "2023-07-01T11:48:37.602860",
          "status": "completed"
        },
        "tags": [],
        "id": "d180f8bf"
      },
      "source": [
        "Precision score matters a lot in situations where the focus is on minimizing false positives and ensuring that the positive predictions made by a model are highly accurate. Precision is a metric commonly used in binary classification problems, particularly when the class distribution is **imbalanced.**\n",
        "\n",
        "Here are a few scenarios where precision score is crucial:\n",
        "\n",
        "1. Medical Diagnostics: In medical diagnostics, precision is vital because the cost of false positives can be high. For example, in cancer screening, a high precision score ensures that patients identified as positive for cancer are more likely to have the disease, reducing unnecessary anxiety and medical procedures.\n",
        "\n",
        "2. Fraud Detection: When detecting fraudulent transactions or activities, precision is crucial to minimize false alarms. A high precision score ensures that the flagged cases are highly likely to be genuine frauds, reducing the time and effort spent on investigating false positives.\n",
        "\n",
        "3. Spam Filtering: In email or message spam filtering, precision is important to avoid filtering legitimate messages as spam. High precision ensures that the messages classified as spam are indeed unwanted, providing a better user experience.\n",
        "\n",
        "4. Legal and Security Systems: In legal and security domains, precision is significant to avoid false accusations or wrongful convictions. For instance, in facial recognition systems used for identifying criminals or suspects, high precision helps prevent innocent individuals from being falsely implicated.\n",
        "\n",
        "In these scenarios, precision is prioritized over other metrics like recall or accuracy, as the cost or impact of false positives is typically higher than false negatives. However, it's important to consider the specific context and requirements of each problem to determine which evaluation metric is most appropriate."
      ]
    },
    {
      "cell_type": "markdown",
      "id": "01550934",
      "metadata": {
        "papermill": {
          "duration": 0.045083,
          "end_time": "2023-07-01T11:48:37.738865",
          "exception": false,
          "start_time": "2023-07-01T11:48:37.693782",
          "status": "completed"
        },
        "tags": [],
        "id": "01550934"
      },
      "source": [
        "Also,In our problem of SMS Spam detection we are going to focus more on **precision score**"
      ]
    },
    {
      "cell_type": "markdown",
      "id": "77018298",
      "metadata": {
        "papermill": {
          "duration": 0.045017,
          "end_time": "2023-07-01T11:48:37.829415",
          "exception": false,
          "start_time": "2023-07-01T11:48:37.784398",
          "status": "completed"
        },
        "tags": [],
        "id": "77018298"
      },
      "source": [
        "## Naive Bayes"
      ]
    },
    {
      "cell_type": "code",
      "execution_count": null,
      "id": "6a41c5b5",
      "metadata": {
        "execution": {
          "iopub.execute_input": "2023-07-01T11:48:38.020781Z",
          "iopub.status.busy": "2023-07-01T11:48:38.020094Z",
          "iopub.status.idle": "2023-07-01T11:48:38.035967Z",
          "shell.execute_reply": "2023-07-01T11:48:38.034669Z"
        },
        "papermill": {
          "duration": 0.066459,
          "end_time": "2023-07-01T11:48:38.039169",
          "exception": false,
          "start_time": "2023-07-01T11:48:37.972710",
          "status": "completed"
        },
        "tags": [],
        "id": "6a41c5b5"
      },
      "outputs": [],
      "source": [
        "from sklearn.naive_bayes import GaussianNB,MultinomialNB,BernoulliNB\n",
        "from sklearn.metrics import accuracy_score,confusion_matrix,precision_score"
      ]
    },
    {
      "cell_type": "code",
      "execution_count": null,
      "id": "39f25ff2",
      "metadata": {
        "execution": {
          "iopub.execute_input": "2023-07-01T11:48:38.135109Z",
          "iopub.status.busy": "2023-07-01T11:48:38.134392Z",
          "iopub.status.idle": "2023-07-01T11:48:38.138771Z",
          "shell.execute_reply": "2023-07-01T11:48:38.138073Z"
        },
        "papermill": {
          "duration": 0.055086,
          "end_time": "2023-07-01T11:48:38.140996",
          "exception": false,
          "start_time": "2023-07-01T11:48:38.085910",
          "status": "completed"
        },
        "tags": [],
        "id": "39f25ff2"
      },
      "outputs": [],
      "source": [
        "# Create a Gaussian Naive Bayes classifier\n",
        "gnb = GaussianNB()\n",
        "# Create a Multinomial Naive Bayes classifier\n",
        "mnb = MultinomialNB()\n",
        "# Create a Bernoulli Naive Bayes classifier\n",
        "bnb = BernoulliNB()"
      ]
    },
    {
      "cell_type": "markdown",
      "id": "00fc43f8",
      "metadata": {
        "execution": {
          "iopub.execute_input": "2023-06-30T18:12:22.926904Z",
          "iopub.status.busy": "2023-06-30T18:12:22.926496Z",
          "iopub.status.idle": "2023-06-30T18:12:22.934458Z",
          "shell.execute_reply": "2023-06-30T18:12:22.932809Z",
          "shell.execute_reply.started": "2023-06-30T18:12:22.926874Z"
        },
        "papermill": {
          "duration": 0.045703,
          "end_time": "2023-07-01T11:48:38.233169",
          "exception": false,
          "start_time": "2023-07-01T11:48:38.187466",
          "status": "completed"
        },
        "tags": [],
        "id": "00fc43f8"
      },
      "source": [
        "**Gaussian Naive Bayes classifier**"
      ]
    },
    {
      "cell_type": "code",
      "execution_count": null,
      "id": "dae9da67",
      "metadata": {
        "execution": {
          "iopub.execute_input": "2023-07-01T11:48:38.327983Z",
          "iopub.status.busy": "2023-07-01T11:48:38.327492Z",
          "iopub.status.idle": "2023-07-01T11:48:38.900231Z",
          "shell.execute_reply": "2023-07-01T11:48:38.898915Z"
        },
        "papermill": {
          "duration": 0.624321,
          "end_time": "2023-07-01T11:48:38.903471",
          "exception": false,
          "start_time": "2023-07-01T11:48:38.279150",
          "status": "completed"
        },
        "tags": [],
        "id": "dae9da67",
        "outputId": "8a695a29-1390-489d-8d52-049fcc9358ce"
      },
      "outputs": [
        {
          "name": "stdout",
          "output_type": "stream",
          "text": [
            "0.874274661508704\n",
            "[[786 110]\n",
            " [ 20 118]]\n",
            "0.5175438596491229\n"
          ]
        }
      ],
      "source": [
        "gnb.fit(X_train,y_train)\n",
        "y_pred1 = gnb.predict(X_test)\n",
        "print(accuracy_score(y_test,y_pred1))\n",
        "print(confusion_matrix(y_test,y_pred1))\n",
        "print(precision_score(y_test,y_pred1))"
      ]
    },
    {
      "cell_type": "markdown",
      "id": "8361b22d",
      "metadata": {
        "papermill": {
          "duration": 0.045564,
          "end_time": "2023-07-01T11:48:38.994214",
          "exception": false,
          "start_time": "2023-07-01T11:48:38.948650",
          "status": "completed"
        },
        "tags": [],
        "id": "8361b22d"
      },
      "source": [
        "The precision score of 0.51 indicates the proportion of correctly predicted positive outcomes (118) out of the total instances that were predicted as positive (118 + 20).It tells us that out of all the instances the model identified as positive, around 51.8% were actually positive."
      ]
    },
    {
      "cell_type": "markdown",
      "id": "2370ace5",
      "metadata": {
        "execution": {
          "iopub.execute_input": "2023-06-30T18:12:59.377102Z",
          "iopub.status.busy": "2023-06-30T18:12:59.376732Z",
          "iopub.status.idle": "2023-06-30T18:12:59.383366Z",
          "shell.execute_reply": "2023-06-30T18:12:59.382185Z",
          "shell.execute_reply.started": "2023-06-30T18:12:59.377075Z"
        },
        "papermill": {
          "duration": 0.046896,
          "end_time": "2023-07-01T11:48:39.089079",
          "exception": false,
          "start_time": "2023-07-01T11:48:39.042183",
          "status": "completed"
        },
        "tags": [],
        "id": "2370ace5"
      },
      "source": [
        "**Multinomial Naive Bayes classifier**"
      ]
    },
    {
      "cell_type": "code",
      "execution_count": null,
      "id": "6f5485b7",
      "metadata": {
        "execution": {
          "iopub.execute_input": "2023-07-01T11:48:39.185036Z",
          "iopub.status.busy": "2023-07-01T11:48:39.184337Z",
          "iopub.status.idle": "2023-07-01T11:48:39.538736Z",
          "shell.execute_reply": "2023-07-01T11:48:39.537391Z"
        },
        "papermill": {
          "duration": 0.407875,
          "end_time": "2023-07-01T11:48:39.544215",
          "exception": false,
          "start_time": "2023-07-01T11:48:39.136340",
          "status": "completed"
        },
        "tags": [],
        "id": "6f5485b7",
        "outputId": "f7d447c4-2897-4848-ee8e-8f5cfa0c41a1"
      },
      "outputs": [
        {
          "name": "stdout",
          "output_type": "stream",
          "text": [
            "0.965183752417795\n",
            "[[872  24]\n",
            " [ 12 126]]\n",
            "0.84\n"
          ]
        }
      ],
      "source": [
        "mnb.fit(X_train,y_train)\n",
        "y_pred2 = mnb.predict(X_test)\n",
        "print(accuracy_score(y_test,y_pred2))\n",
        "print(confusion_matrix(y_test,y_pred2))\n",
        "print(precision_score(y_test,y_pred2))\n"
      ]
    },
    {
      "cell_type": "markdown",
      "id": "79641b8d",
      "metadata": {
        "papermill": {
          "duration": 0.048797,
          "end_time": "2023-07-01T11:48:39.691008",
          "exception": false,
          "start_time": "2023-07-01T11:48:39.642211",
          "status": "completed"
        },
        "tags": [],
        "id": "79641b8d"
      },
      "source": [
        "The precision score of 0.87 indicates the proportion of correctly predicted positive outcomes (126) out of the total instances that were predicted as positive (126 + 12).It tells us that out of all the instances the model identified as positive, around 87% were actually positive."
      ]
    },
    {
      "cell_type": "markdown",
      "id": "102007a6",
      "metadata": {
        "papermill": {
          "duration": 0.047954,
          "end_time": "2023-07-01T11:48:39.785608",
          "exception": false,
          "start_time": "2023-07-01T11:48:39.737654",
          "status": "completed"
        },
        "tags": [],
        "id": "102007a6"
      },
      "source": [
        "**Bernoulli Naive Bayes classifier**"
      ]
    },
    {
      "cell_type": "code",
      "execution_count": null,
      "id": "4728d1dd",
      "metadata": {
        "execution": {
          "iopub.execute_input": "2023-07-01T11:48:39.881912Z",
          "iopub.status.busy": "2023-07-01T11:48:39.881491Z",
          "iopub.status.idle": "2023-07-01T11:48:40.631990Z",
          "shell.execute_reply": "2023-07-01T11:48:40.630491Z"
        },
        "papermill": {
          "duration": 0.803877,
          "end_time": "2023-07-01T11:48:40.636449",
          "exception": false,
          "start_time": "2023-07-01T11:48:39.832572",
          "status": "completed"
        },
        "tags": [],
        "id": "4728d1dd",
        "outputId": "64752341-4023-4a05-b9f4-809b85a37bf6"
      },
      "outputs": [
        {
          "name": "stdout",
          "output_type": "stream",
          "text": [
            "0.9709864603481625\n",
            "[[893   3]\n",
            " [ 27 111]]\n",
            "0.9736842105263158\n"
          ]
        }
      ],
      "source": [
        "bnb.fit(X_train,y_train)\n",
        "y_pred3 = bnb.predict(X_test)\n",
        "print(accuracy_score(y_test,y_pred3))\n",
        "print(confusion_matrix(y_test,y_pred3))\n",
        "print(precision_score(y_test,y_pred3))"
      ]
    },
    {
      "cell_type": "markdown",
      "id": "b97bdd5b",
      "metadata": {
        "papermill": {
          "duration": 0.044955,
          "end_time": "2023-07-01T11:48:40.774912",
          "exception": false,
          "start_time": "2023-07-01T11:48:40.729957",
          "status": "completed"
        },
        "tags": [],
        "id": "b97bdd5b"
      },
      "source": [
        "The precision score of 0.97 indicates the proportion of correctly predicted positive outcomes (111) out of the total instances that were predicted as positive (111 + 27). It tells us that out of all the instances the model identified as positive, around 97% were actually positive."
      ]
    },
    {
      "cell_type": "markdown",
      "id": "975b0e02",
      "metadata": {
        "execution": {
          "iopub.execute_input": "2023-07-01T09:50:24.140458Z",
          "iopub.status.busy": "2023-07-01T09:50:24.140020Z",
          "iopub.status.idle": "2023-07-01T09:50:24.149728Z",
          "shell.execute_reply": "2023-07-01T09:50:24.147951Z",
          "shell.execute_reply.started": "2023-07-01T09:50:24.140423Z"
        },
        "papermill": {
          "duration": 0.044654,
          "end_time": "2023-07-01T11:48:40.864838",
          "exception": false,
          "start_time": "2023-07-01T11:48:40.820184",
          "status": "completed"
        },
        "tags": [],
        "id": "975b0e02"
      },
      "source": [
        "Maximum precision we have got is close to **97%** with Bernoulli Naive Bayes classifier.<br>\n",
        "Lets try other vectorization and check do we get different resullts."
      ]
    },
    {
      "cell_type": "markdown",
      "id": "3084d9a3",
      "metadata": {
        "papermill": {
          "duration": 0.044474,
          "end_time": "2023-07-01T11:48:40.954200",
          "exception": false,
          "start_time": "2023-07-01T11:48:40.909726",
          "status": "completed"
        },
        "tags": [],
        "id": "3084d9a3"
      },
      "source": [
        "## Tf_IDF Vectorization"
      ]
    },
    {
      "cell_type": "markdown",
      "id": "8620e98f",
      "metadata": {
        "papermill": {
          "duration": 0.046419,
          "end_time": "2023-07-01T11:48:41.046142",
          "exception": false,
          "start_time": "2023-07-01T11:48:40.999723",
          "status": "completed"
        },
        "tags": [],
        "id": "8620e98f"
      },
      "source": [
        "TF-IDF stands for \"Term Frequency-Inverse Document Frequency.\" It is a numerical representation technique used for text data, such as documents, articles, or web pages. TF-IDF vectorization is a way to convert this textual information into a numerical representation that machine learning algorithms can understand.\n",
        "\n",
        "Here's how it works:\n",
        "\n",
        "1. **Term Frequency (TF)**: TF measures how frequently a term (word) appears in a document. It calculates the ratio of the number of times a term appears in a document to the total number of terms in that document. The idea is that the more often a term appears in a document, the more important it might be in describing that document.\n",
        "\n",
        "2. **Inverse Document Frequency (IDF)**: IDF measures the importance of a term across multiple documents. It calculates the logarithm of the ratio between the total number of documents and the number of documents that contain a particular term. The rationale behind IDF is that terms that appear in fewer documents might carry more significance or specificity in describing a particular document.\n",
        "\n",
        "3. **TF-IDF**: To get the TF-IDF score for a term in a document, we multiply the TF score and the IDF score for that term. The TF-IDF score combines the local importance of the term within a document (TF) with the global importance of the term across all documents (IDF).\n",
        "\n",
        "4. **Vectorization**: After calculating the TF-IDF scores for all terms in each document, we represent each document as a vector, where each element of the vector corresponds to the TF-IDF score of a specific term. In other words, we convert the textual data into a numerical representation, where each document is now represented as a set of TF-IDF values.\n",
        "\n",
        "The resulting TF-IDF vectors can be used as input for machine learning algorithms. They capture the importance of different terms in each document, allowing algorithms to identify patterns, make predictions, or perform other tasks based on these numerical representations.\n",
        "\n",
        "In summary, TF-IDF vectorization converts text data into numerical representations by considering the frequency of terms in a document (TF) and their importance across multiple documents (IDF). This allows machine learning algorithms to process and analyze textual information effectively."
      ]
    },
    {
      "cell_type": "markdown",
      "id": "fd5c404e",
      "metadata": {
        "papermill": {
          "duration": 0.043811,
          "end_time": "2023-07-01T11:48:41.134648",
          "exception": false,
          "start_time": "2023-07-01T11:48:41.090837",
          "status": "completed"
        },
        "tags": [],
        "id": "fd5c404e"
      },
      "source": [
        "Lets implement Tf-Idf vectorizer on our text to check weather it is performed well as compared to BoW"
      ]
    },
    {
      "cell_type": "code",
      "execution_count": null,
      "id": "8a15510a",
      "metadata": {
        "execution": {
          "iopub.execute_input": "2023-07-01T11:48:41.225659Z",
          "iopub.status.busy": "2023-07-01T11:48:41.225255Z",
          "iopub.status.idle": "2023-07-01T11:48:41.230351Z",
          "shell.execute_reply": "2023-07-01T11:48:41.229595Z"
        },
        "papermill": {
          "duration": 0.052892,
          "end_time": "2023-07-01T11:48:41.232588",
          "exception": false,
          "start_time": "2023-07-01T11:48:41.179696",
          "status": "completed"
        },
        "tags": [],
        "id": "8a15510a"
      },
      "outputs": [],
      "source": [
        "#create TF-IDF vectorizer (TfidfVectorizer) with a maximum of 3000 features.\n",
        "#The max_features parameter is set to 3000.\n",
        "#This specifies that only the top 3000 features (words) should be considered during the vectorization process.\n",
        "#By limiting the number of features, it can help reduce the dimensionality of the resulting vectors and potentially improve computational efficiency.\n",
        "\n",
        "from sklearn.feature_extraction.text import TfidfVectorizer\n",
        "tfidf = TfidfVectorizer(max_features=3000)"
      ]
    },
    {
      "cell_type": "code",
      "execution_count": null,
      "id": "64d00fd0",
      "metadata": {
        "execution": {
          "iopub.execute_input": "2023-07-01T11:48:41.330888Z",
          "iopub.status.busy": "2023-07-01T11:48:41.330160Z",
          "iopub.status.idle": "2023-07-01T11:48:41.574807Z",
          "shell.execute_reply": "2023-07-01T11:48:41.573531Z"
        },
        "papermill": {
          "duration": 0.297661,
          "end_time": "2023-07-01T11:48:41.578029",
          "exception": false,
          "start_time": "2023-07-01T11:48:41.280368",
          "status": "completed"
        },
        "tags": [],
        "id": "64d00fd0"
      },
      "outputs": [],
      "source": [
        "# Perform TF-IDF vectorization on the 'transformed_text' column of the dataframe\n",
        "X = tfidf.fit_transform(df['transformed_text']).toarray()\n",
        "# Create a variable 'y' containing the values of the 'target' column\n",
        "y = df['target'].values\n"
      ]
    },
    {
      "cell_type": "code",
      "execution_count": null,
      "id": "4a065afb",
      "metadata": {
        "execution": {
          "iopub.execute_input": "2023-07-01T11:48:41.674237Z",
          "iopub.status.busy": "2023-07-01T11:48:41.673817Z",
          "iopub.status.idle": "2023-07-01T11:48:41.742184Z",
          "shell.execute_reply": "2023-07-01T11:48:41.740697Z"
        },
        "papermill": {
          "duration": 0.120068,
          "end_time": "2023-07-01T11:48:41.745066",
          "exception": false,
          "start_time": "2023-07-01T11:48:41.624998",
          "status": "completed"
        },
        "tags": [],
        "id": "4a065afb"
      },
      "outputs": [],
      "source": [
        "X_train,X_test,y_train,y_test = train_test_split(X,y,test_size=0.2,random_state=2)"
      ]
    },
    {
      "cell_type": "markdown",
      "id": "9b3da838",
      "metadata": {
        "papermill": {
          "duration": 0.044069,
          "end_time": "2023-07-01T11:48:41.835615",
          "exception": false,
          "start_time": "2023-07-01T11:48:41.791546",
          "status": "completed"
        },
        "tags": [],
        "id": "9b3da838"
      },
      "source": [
        "**Gaussian Naive Bayes classifier**"
      ]
    },
    {
      "cell_type": "code",
      "execution_count": null,
      "id": "97d5d1a4",
      "metadata": {
        "execution": {
          "iopub.execute_input": "2023-07-01T11:48:41.928350Z",
          "iopub.status.busy": "2023-07-01T11:48:41.927850Z",
          "iopub.status.idle": "2023-07-01T11:48:42.200315Z",
          "shell.execute_reply": "2023-07-01T11:48:42.199353Z"
        },
        "papermill": {
          "duration": 0.322285,
          "end_time": "2023-07-01T11:48:42.202832",
          "exception": false,
          "start_time": "2023-07-01T11:48:41.880547",
          "status": "completed"
        },
        "tags": [],
        "id": "97d5d1a4",
        "outputId": "d4ae7763-a40b-449e-ef83-246376d78353"
      },
      "outputs": [
        {
          "name": "stdout",
          "output_type": "stream",
          "text": [
            "0.867504835589942\n",
            "[[785 111]\n",
            " [ 26 112]]\n",
            "0.5022421524663677\n"
          ]
        }
      ],
      "source": [
        "gnb.fit(X_train,y_train)\n",
        "y_pred1 = gnb.predict(X_test)\n",
        "print(accuracy_score(y_test,y_pred1))\n",
        "print(confusion_matrix(y_test,y_pred1))\n",
        "print(precision_score(y_test,y_pred1))"
      ]
    },
    {
      "cell_type": "markdown",
      "id": "c02dbffd",
      "metadata": {
        "papermill": {
          "duration": 0.045044,
          "end_time": "2023-07-01T11:48:42.293262",
          "exception": false,
          "start_time": "2023-07-01T11:48:42.248218",
          "status": "completed"
        },
        "tags": [],
        "id": "c02dbffd"
      },
      "source": [
        "The precision score of 0.50 indicates the proportion of correctly predicted positive outcomes (112) out of the total instances that were predicted as positive (112 + 26).It tells us that out of all the instances the model identified as positive, around 50.2% were actually positive."
      ]
    },
    {
      "cell_type": "markdown",
      "id": "c7b77f8a",
      "metadata": {
        "papermill": {
          "duration": 0.045988,
          "end_time": "2023-07-01T11:48:42.384467",
          "exception": false,
          "start_time": "2023-07-01T11:48:42.338479",
          "status": "completed"
        },
        "tags": [],
        "id": "c7b77f8a"
      },
      "source": [
        "**Multinomial Naive Bayes classifier**"
      ]
    },
    {
      "cell_type": "code",
      "execution_count": null,
      "id": "e7c22ba5",
      "metadata": {
        "execution": {
          "iopub.execute_input": "2023-07-01T11:48:42.476593Z",
          "iopub.status.busy": "2023-07-01T11:48:42.475711Z",
          "iopub.status.idle": "2023-07-01T11:48:42.561338Z",
          "shell.execute_reply": "2023-07-01T11:48:42.559824Z"
        },
        "papermill": {
          "duration": 0.136237,
          "end_time": "2023-07-01T11:48:42.565558",
          "exception": false,
          "start_time": "2023-07-01T11:48:42.429321",
          "status": "completed"
        },
        "tags": [],
        "id": "e7c22ba5",
        "outputId": "6cf70d20-54ea-4f11-bacf-1c97cc6287c8"
      },
      "outputs": [
        {
          "name": "stdout",
          "output_type": "stream",
          "text": [
            "0.9729206963249516\n",
            "[[896   0]\n",
            " [ 28 110]]\n",
            "1.0\n"
          ]
        }
      ],
      "source": [
        "mnb.fit(X_train,y_train)\n",
        "y_pred2 = mnb.predict(X_test)\n",
        "print(accuracy_score(y_test,y_pred2))\n",
        "print(confusion_matrix(y_test,y_pred2))\n",
        "print(precision_score(y_test,y_pred2))"
      ]
    },
    {
      "cell_type": "markdown",
      "id": "d8fc87f2",
      "metadata": {
        "papermill": {
          "duration": 0.049984,
          "end_time": "2023-07-01T11:48:42.708279",
          "exception": false,
          "start_time": "2023-07-01T11:48:42.658295",
          "status": "completed"
        },
        "tags": [],
        "id": "d8fc87f2"
      },
      "source": [
        "The precision score of **1.0** indicates that the model achieved perfect precision.It means that all instances predicted as positive were indeed positive. In other words, every positive prediction made by the model was correct with Accuracy of 97%"
      ]
    },
    {
      "cell_type": "markdown",
      "id": "202d61df",
      "metadata": {
        "papermill": {
          "duration": 0.045091,
          "end_time": "2023-07-01T11:48:42.799016",
          "exception": false,
          "start_time": "2023-07-01T11:48:42.753925",
          "status": "completed"
        },
        "tags": [],
        "id": "202d61df"
      },
      "source": [
        "**Bernoulli Naive Bayes classifier**"
      ]
    },
    {
      "cell_type": "code",
      "execution_count": null,
      "id": "c4105315",
      "metadata": {
        "execution": {
          "iopub.execute_input": "2023-07-01T11:48:42.891449Z",
          "iopub.status.busy": "2023-07-01T11:48:42.890953Z",
          "iopub.status.idle": "2023-07-01T11:48:43.114035Z",
          "shell.execute_reply": "2023-07-01T11:48:43.112294Z"
        },
        "papermill": {
          "duration": 0.273696,
          "end_time": "2023-07-01T11:48:43.118056",
          "exception": false,
          "start_time": "2023-07-01T11:48:42.844360",
          "status": "completed"
        },
        "tags": [],
        "id": "c4105315",
        "outputId": "87d8ef31-8970-4fc8-e47e-fc0e29fb4c85"
      },
      "outputs": [
        {
          "name": "stdout",
          "output_type": "stream",
          "text": [
            "0.9816247582205029\n",
            "[[895   1]\n",
            " [ 18 120]]\n",
            "0.9917355371900827\n"
          ]
        }
      ],
      "source": [
        "bnb.fit(X_train,y_train)\n",
        "y_pred3 = bnb.predict(X_test)\n",
        "print(accuracy_score(y_test,y_pred3))\n",
        "print(confusion_matrix(y_test,y_pred3))\n",
        "print(precision_score(y_test,y_pred3))"
      ]
    },
    {
      "cell_type": "markdown",
      "id": "f3c11de3",
      "metadata": {
        "papermill": {
          "duration": 0.049534,
          "end_time": "2023-07-01T11:48:43.261410",
          "exception": false,
          "start_time": "2023-07-01T11:48:43.211876",
          "status": "completed"
        },
        "tags": [],
        "id": "f3c11de3"
      },
      "source": [
        "The precision score of 0.99 indicates the proportion of correctly predicted positive outcomes (120) out of the total instances that were predicted as positive (120 + 18). In simpler terms, it tells us that out of all the instances the model identified as positive, around 99.17% were actually positive."
      ]
    },
    {
      "cell_type": "markdown",
      "id": "39813ace",
      "metadata": {
        "papermill": {
          "duration": 0.044517,
          "end_time": "2023-07-01T11:48:43.351219",
          "exception": false,
          "start_time": "2023-07-01T11:48:43.306702",
          "status": "completed"
        },
        "tags": [],
        "id": "39813ace"
      },
      "source": [
        "The precision score of **1.0** with **Multinomial Naive Bayes classifier** has achieved perfect precision.\n",
        "In other words, every positive prediction made by the model was correct with Accuracy of 97%.\n",
        "\n",
        "Lets try out with other model as well to check weather our accuracy improve or not"
      ]
    },
    {
      "cell_type": "code",
      "execution_count": null,
      "id": "42e22799",
      "metadata": {
        "execution": {
          "iopub.execute_input": "2023-07-01T11:48:43.446506Z",
          "iopub.status.busy": "2023-07-01T11:48:43.445244Z",
          "iopub.status.idle": "2023-07-01T11:48:43.920704Z",
          "shell.execute_reply": "2023-07-01T11:48:43.919344Z"
        },
        "papermill": {
          "duration": 0.525549,
          "end_time": "2023-07-01T11:48:43.923781",
          "exception": false,
          "start_time": "2023-07-01T11:48:43.398232",
          "status": "completed"
        },
        "tags": [],
        "id": "42e22799"
      },
      "outputs": [],
      "source": [
        "from sklearn.svm import SVC\n",
        "from sklearn.neighbors import KNeighborsClassifier\n",
        "from sklearn.tree import DecisionTreeClassifier\n",
        "from sklearn.naive_bayes import MultinomialNB\n",
        "from sklearn.linear_model import LogisticRegression\n",
        "from sklearn.ensemble import RandomForestClassifier, AdaBoostClassifier, BaggingClassifier, ExtraTreesClassifier, GradientBoostingClassifier\n",
        "from xgboost import XGBClassifier"
      ]
    },
    {
      "cell_type": "code",
      "execution_count": null,
      "id": "967d4484",
      "metadata": {
        "execution": {
          "iopub.execute_input": "2023-07-01T11:48:44.016637Z",
          "iopub.status.busy": "2023-07-01T11:48:44.016143Z",
          "iopub.status.idle": "2023-07-01T11:48:44.026215Z",
          "shell.execute_reply": "2023-07-01T11:48:44.024800Z"
        },
        "papermill": {
          "duration": 0.05939,
          "end_time": "2023-07-01T11:48:44.028952",
          "exception": false,
          "start_time": "2023-07-01T11:48:43.969562",
          "status": "completed"
        },
        "tags": [],
        "id": "967d4484"
      },
      "outputs": [],
      "source": [
        "# Create different classifier models\n",
        "svc = SVC(kernel='sigmoid', gamma=1.0)  # Support Vector Classifier with sigmoid kernel\n",
        "knc = KNeighborsClassifier()  # K-Nearest Neighbors Classifier\n",
        "mnb = MultinomialNB()\n",
        "dtc = DecisionTreeClassifier(max_depth=5)  # Decision Tree Classifier with maximum depth of 5\n",
        "lrc = LogisticRegression(solver='liblinear', penalty='l1')  # Logistic Regression Classifier with L1 regularization\n",
        "rfc = RandomForestClassifier(n_estimators=50, random_state=2)  # Random Forest Classifier with 50 decision trees\n",
        "abc = AdaBoostClassifier(n_estimators=50, random_state=2)  # AdaBoost Classifier with 50 weak learners\n",
        "bc = BaggingClassifier(n_estimators=50, random_state=2)  # Bagging Classifier with 50 base estimators\n",
        "etc = ExtraTreesClassifier(n_estimators=50, random_state=2)  # Extra Trees Classifier with 50 decision trees\n",
        "gbdt = GradientBoostingClassifier(n_estimators=50, random_state=2)  # Gradient Boosting Classifier with 50 boosting stages\n",
        "xgb = XGBClassifier(n_estimators=50, random_state=2)  # XGBoost Classifier with 50 boosting rounds\n",
        "\n"
      ]
    },
    {
      "cell_type": "code",
      "execution_count": null,
      "id": "c0bf8687",
      "metadata": {
        "execution": {
          "iopub.execute_input": "2023-07-01T11:48:44.122729Z",
          "iopub.status.busy": "2023-07-01T11:48:44.122269Z",
          "iopub.status.idle": "2023-07-01T11:48:44.129786Z",
          "shell.execute_reply": "2023-07-01T11:48:44.128349Z"
        },
        "papermill": {
          "duration": 0.058174,
          "end_time": "2023-07-01T11:48:44.132291",
          "exception": false,
          "start_time": "2023-07-01T11:48:44.074117",
          "status": "completed"
        },
        "tags": [],
        "id": "c0bf8687"
      },
      "outputs": [],
      "source": [
        "#The clfs dictionary represents a collection of different machine learning algorithms that can be used for classification tasks.\n",
        "#Each algorithm is associated with a key that serves as its name.\n",
        "clfs = {\n",
        "    'SVC' : svc,\n",
        "    'KN' : knc,\n",
        "    'DT': dtc,\n",
        "    'NB': mnb,\n",
        "    'LR': lrc,\n",
        "    'RF': rfc,\n",
        "    'AdaBoost': abc,\n",
        "    'BgC': bc,\n",
        "    'ETC': etc,\n",
        "    'GBDT':gbdt,\n",
        "    'xgb':xgb\n",
        "}"
      ]
    },
    {
      "cell_type": "code",
      "execution_count": null,
      "id": "41d81a8c",
      "metadata": {
        "execution": {
          "iopub.execute_input": "2023-07-01T11:48:44.226320Z",
          "iopub.status.busy": "2023-07-01T11:48:44.225862Z",
          "iopub.status.idle": "2023-07-01T11:48:44.233387Z",
          "shell.execute_reply": "2023-07-01T11:48:44.232186Z"
        },
        "papermill": {
          "duration": 0.057219,
          "end_time": "2023-07-01T11:48:44.235797",
          "exception": false,
          "start_time": "2023-07-01T11:48:44.178578",
          "status": "completed"
        },
        "tags": [],
        "id": "41d81a8c"
      },
      "outputs": [],
      "source": [
        "def train_classifier(clf, X_train, y_train, X_test, y_test):\n",
        "    # Train the classifier model using the training data\n",
        "    clf.fit(X_train, y_train)\n",
        "\n",
        "    # Make predictions on the test data\n",
        "    y_pred = clf.predict(X_test)\n",
        "\n",
        "    # Calculate the accuracy score by comparing the predicted labels with the true labels\n",
        "    accuracy = accuracy_score(y_test, y_pred)\n",
        "\n",
        "    # Calculate the precision score by comparing the predicted labels with the true labels\n",
        "    precision = precision_score(y_test, y_pred)\n",
        "\n",
        "    # Return the accuracy and precision scores\n",
        "    return accuracy, precision\n"
      ]
    },
    {
      "cell_type": "markdown",
      "id": "fabe2474",
      "metadata": {
        "papermill": {
          "duration": 0.045174,
          "end_time": "2023-07-01T11:48:44.325898",
          "exception": false,
          "start_time": "2023-07-01T11:48:44.280724",
          "status": "completed"
        },
        "tags": [],
        "id": "fabe2474"
      },
      "source": [
        "Now,We have different machine learning models, and we want to see how well they perform on our data. So, we iterate over each model, train it using the training data, make predictions on the test data, and calculate the accuracy (how correct the predictions are) and precision (how well it identifies positive cases) scores. We print these scores for each model and store them for later analysis."
      ]
    },
    {
      "cell_type": "code",
      "execution_count": null,
      "id": "e4605038",
      "metadata": {
        "execution": {
          "iopub.execute_input": "2023-07-01T11:48:44.421155Z",
          "iopub.status.busy": "2023-07-01T11:48:44.419711Z",
          "iopub.status.idle": "2023-07-01T11:52:44.145479Z",
          "shell.execute_reply": "2023-07-01T11:52:44.144050Z"
        },
        "papermill": {
          "duration": 239.77736,
          "end_time": "2023-07-01T11:52:44.148395",
          "exception": false,
          "start_time": "2023-07-01T11:48:44.371035",
          "status": "completed"
        },
        "tags": [],
        "id": "e4605038",
        "outputId": "0d41f4ec-30a9-4e44-c60a-6098e4f52fdc"
      },
      "outputs": [
        {
          "name": "stdout",
          "output_type": "stream",
          "text": [
            "For  SVC\n",
            "Accuracy -  0.9748549323017408\n",
            "Precision -  0.9666666666666667\n",
            "For  KN\n",
            "Accuracy -  0.9052224371373307\n",
            "Precision -  1.0\n",
            "For  DT\n",
            "Accuracy -  0.9352030947775629\n",
            "Precision -  0.8585858585858586\n",
            "For  NB\n",
            "Accuracy -  0.9729206963249516\n",
            "Precision -  1.0\n",
            "For  LR\n",
            "Accuracy -  0.9574468085106383\n",
            "Precision -  0.9519230769230769\n",
            "For  RF\n",
            "Accuracy -  0.971953578336557\n",
            "Precision -  0.9739130434782609\n",
            "For  AdaBoost\n",
            "Accuracy -  0.9642166344294004\n",
            "Precision -  0.9316239316239316\n",
            "For  BgC\n",
            "Accuracy -  0.9545454545454546\n",
            "Precision -  0.8527131782945736\n",
            "For  ETC\n",
            "Accuracy -  0.9777562862669246\n",
            "Precision -  0.9831932773109243\n",
            "For  GBDT\n",
            "Accuracy -  0.9487427466150871\n",
            "Precision -  0.9292929292929293\n",
            "For  xgb\n",
            "Accuracy -  0.9690522243713733\n",
            "Precision -  0.9416666666666667\n"
          ]
        }
      ],
      "source": [
        "accuracy_scores = []\n",
        "precision_scores = []\n",
        "\n",
        "for name,clf in clfs.items():\n",
        "\n",
        "    current_accuracy,current_precision = train_classifier(clf, X_train,y_train,X_test,y_test)\n",
        "\n",
        "    print(\"For \",name)\n",
        "    print(\"Accuracy - \",current_accuracy)\n",
        "    print(\"Precision - \",current_precision)\n",
        "\n",
        "    accuracy_scores.append(current_accuracy)\n",
        "    precision_scores.append(current_precision)"
      ]
    },
    {
      "cell_type": "code",
      "execution_count": null,
      "id": "3c3a2880",
      "metadata": {
        "execution": {
          "iopub.execute_input": "2023-07-01T11:52:44.245021Z",
          "iopub.status.busy": "2023-07-01T11:52:44.243614Z",
          "iopub.status.idle": "2023-07-01T11:52:44.250553Z",
          "shell.execute_reply": "2023-07-01T11:52:44.249830Z"
        },
        "papermill": {
          "duration": 0.057202,
          "end_time": "2023-07-01T11:52:44.252727",
          "exception": false,
          "start_time": "2023-07-01T11:52:44.195525",
          "status": "completed"
        },
        "tags": [],
        "id": "3c3a2880"
      },
      "outputs": [],
      "source": [
        "# Create a DataFrame to store performance metrics of different algorithms\n",
        "performance_df = pd.DataFrame({'Algorithm': clfs.keys(), 'Accuracy': accuracy_scores, 'Precision': precision_scores})"
      ]
    },
    {
      "cell_type": "code",
      "execution_count": null,
      "id": "7e271442",
      "metadata": {
        "execution": {
          "iopub.execute_input": "2023-07-01T11:52:44.349011Z",
          "iopub.status.busy": "2023-07-01T11:52:44.348498Z",
          "iopub.status.idle": "2023-07-01T11:52:44.362857Z",
          "shell.execute_reply": "2023-07-01T11:52:44.361870Z"
        },
        "papermill": {
          "duration": 0.065869,
          "end_time": "2023-07-01T11:52:44.365082",
          "exception": false,
          "start_time": "2023-07-01T11:52:44.299213",
          "status": "completed"
        },
        "tags": [],
        "id": "7e271442",
        "outputId": "db437f75-e97f-44ce-ff40-cfa17bd94b35"
      },
      "outputs": [
        {
          "data": {
            "text/html": [
              "<div>\n",
              "<style scoped>\n",
              "    .dataframe tbody tr th:only-of-type {\n",
              "        vertical-align: middle;\n",
              "    }\n",
              "\n",
              "    .dataframe tbody tr th {\n",
              "        vertical-align: top;\n",
              "    }\n",
              "\n",
              "    .dataframe thead th {\n",
              "        text-align: right;\n",
              "    }\n",
              "</style>\n",
              "<table border=\"1\" class=\"dataframe\">\n",
              "  <thead>\n",
              "    <tr style=\"text-align: right;\">\n",
              "      <th></th>\n",
              "      <th>Algorithm</th>\n",
              "      <th>Accuracy</th>\n",
              "      <th>Precision</th>\n",
              "    </tr>\n",
              "  </thead>\n",
              "  <tbody>\n",
              "    <tr>\n",
              "      <th>0</th>\n",
              "      <td>SVC</td>\n",
              "      <td>0.974855</td>\n",
              "      <td>0.966667</td>\n",
              "    </tr>\n",
              "    <tr>\n",
              "      <th>1</th>\n",
              "      <td>KN</td>\n",
              "      <td>0.905222</td>\n",
              "      <td>1.000000</td>\n",
              "    </tr>\n",
              "    <tr>\n",
              "      <th>2</th>\n",
              "      <td>DT</td>\n",
              "      <td>0.935203</td>\n",
              "      <td>0.858586</td>\n",
              "    </tr>\n",
              "    <tr>\n",
              "      <th>3</th>\n",
              "      <td>NB</td>\n",
              "      <td>0.972921</td>\n",
              "      <td>1.000000</td>\n",
              "    </tr>\n",
              "    <tr>\n",
              "      <th>4</th>\n",
              "      <td>LR</td>\n",
              "      <td>0.957447</td>\n",
              "      <td>0.951923</td>\n",
              "    </tr>\n",
              "    <tr>\n",
              "      <th>5</th>\n",
              "      <td>RF</td>\n",
              "      <td>0.971954</td>\n",
              "      <td>0.973913</td>\n",
              "    </tr>\n",
              "    <tr>\n",
              "      <th>6</th>\n",
              "      <td>AdaBoost</td>\n",
              "      <td>0.964217</td>\n",
              "      <td>0.931624</td>\n",
              "    </tr>\n",
              "    <tr>\n",
              "      <th>7</th>\n",
              "      <td>BgC</td>\n",
              "      <td>0.954545</td>\n",
              "      <td>0.852713</td>\n",
              "    </tr>\n",
              "    <tr>\n",
              "      <th>8</th>\n",
              "      <td>ETC</td>\n",
              "      <td>0.977756</td>\n",
              "      <td>0.983193</td>\n",
              "    </tr>\n",
              "    <tr>\n",
              "      <th>9</th>\n",
              "      <td>GBDT</td>\n",
              "      <td>0.948743</td>\n",
              "      <td>0.929293</td>\n",
              "    </tr>\n",
              "    <tr>\n",
              "      <th>10</th>\n",
              "      <td>xgb</td>\n",
              "      <td>0.969052</td>\n",
              "      <td>0.941667</td>\n",
              "    </tr>\n",
              "  </tbody>\n",
              "</table>\n",
              "</div>"
            ],
            "text/plain": [
              "   Algorithm  Accuracy  Precision\n",
              "0        SVC  0.974855   0.966667\n",
              "1         KN  0.905222   1.000000\n",
              "2         DT  0.935203   0.858586\n",
              "3         NB  0.972921   1.000000\n",
              "4         LR  0.957447   0.951923\n",
              "5         RF  0.971954   0.973913\n",
              "6   AdaBoost  0.964217   0.931624\n",
              "7        BgC  0.954545   0.852713\n",
              "8        ETC  0.977756   0.983193\n",
              "9       GBDT  0.948743   0.929293\n",
              "10       xgb  0.969052   0.941667"
            ]
          },
          "execution_count": 62,
          "metadata": {},
          "output_type": "execute_result"
        }
      ],
      "source": [
        "performance_df"
      ]
    },
    {
      "cell_type": "code",
      "execution_count": null,
      "id": "b074f44e",
      "metadata": {
        "execution": {
          "iopub.execute_input": "2023-07-01T11:52:44.461808Z",
          "iopub.status.busy": "2023-07-01T11:52:44.460533Z",
          "iopub.status.idle": "2023-07-01T11:52:44.466820Z",
          "shell.execute_reply": "2023-07-01T11:52:44.465859Z"
        },
        "papermill": {
          "duration": 0.056947,
          "end_time": "2023-07-01T11:52:44.469159",
          "exception": false,
          "start_time": "2023-07-01T11:52:44.412212",
          "status": "completed"
        },
        "tags": [],
        "id": "b074f44e"
      },
      "outputs": [],
      "source": [
        "# Sort the DataFrame based on the 'Precision' column in descending order\n",
        "performance_df = performance_df.sort_values('Precision', ascending=False)"
      ]
    },
    {
      "cell_type": "code",
      "execution_count": null,
      "id": "34580b13",
      "metadata": {
        "execution": {
          "iopub.execute_input": "2023-07-01T11:52:44.564498Z",
          "iopub.status.busy": "2023-07-01T11:52:44.563404Z",
          "iopub.status.idle": "2023-07-01T11:52:44.577191Z",
          "shell.execute_reply": "2023-07-01T11:52:44.575918Z"
        },
        "papermill": {
          "duration": 0.064269,
          "end_time": "2023-07-01T11:52:44.579489",
          "exception": false,
          "start_time": "2023-07-01T11:52:44.515220",
          "status": "completed"
        },
        "tags": [],
        "id": "34580b13",
        "outputId": "5cbe6ae8-ad42-4f18-f717-81dd1223699d"
      },
      "outputs": [
        {
          "data": {
            "text/html": [
              "<div>\n",
              "<style scoped>\n",
              "    .dataframe tbody tr th:only-of-type {\n",
              "        vertical-align: middle;\n",
              "    }\n",
              "\n",
              "    .dataframe tbody tr th {\n",
              "        vertical-align: top;\n",
              "    }\n",
              "\n",
              "    .dataframe thead th {\n",
              "        text-align: right;\n",
              "    }\n",
              "</style>\n",
              "<table border=\"1\" class=\"dataframe\">\n",
              "  <thead>\n",
              "    <tr style=\"text-align: right;\">\n",
              "      <th></th>\n",
              "      <th>Algorithm</th>\n",
              "      <th>Accuracy</th>\n",
              "      <th>Precision</th>\n",
              "    </tr>\n",
              "  </thead>\n",
              "  <tbody>\n",
              "    <tr>\n",
              "      <th>1</th>\n",
              "      <td>KN</td>\n",
              "      <td>0.905222</td>\n",
              "      <td>1.000000</td>\n",
              "    </tr>\n",
              "    <tr>\n",
              "      <th>3</th>\n",
              "      <td>NB</td>\n",
              "      <td>0.972921</td>\n",
              "      <td>1.000000</td>\n",
              "    </tr>\n",
              "    <tr>\n",
              "      <th>8</th>\n",
              "      <td>ETC</td>\n",
              "      <td>0.977756</td>\n",
              "      <td>0.983193</td>\n",
              "    </tr>\n",
              "    <tr>\n",
              "      <th>5</th>\n",
              "      <td>RF</td>\n",
              "      <td>0.971954</td>\n",
              "      <td>0.973913</td>\n",
              "    </tr>\n",
              "    <tr>\n",
              "      <th>0</th>\n",
              "      <td>SVC</td>\n",
              "      <td>0.974855</td>\n",
              "      <td>0.966667</td>\n",
              "    </tr>\n",
              "    <tr>\n",
              "      <th>4</th>\n",
              "      <td>LR</td>\n",
              "      <td>0.957447</td>\n",
              "      <td>0.951923</td>\n",
              "    </tr>\n",
              "    <tr>\n",
              "      <th>10</th>\n",
              "      <td>xgb</td>\n",
              "      <td>0.969052</td>\n",
              "      <td>0.941667</td>\n",
              "    </tr>\n",
              "    <tr>\n",
              "      <th>6</th>\n",
              "      <td>AdaBoost</td>\n",
              "      <td>0.964217</td>\n",
              "      <td>0.931624</td>\n",
              "    </tr>\n",
              "    <tr>\n",
              "      <th>9</th>\n",
              "      <td>GBDT</td>\n",
              "      <td>0.948743</td>\n",
              "      <td>0.929293</td>\n",
              "    </tr>\n",
              "    <tr>\n",
              "      <th>2</th>\n",
              "      <td>DT</td>\n",
              "      <td>0.935203</td>\n",
              "      <td>0.858586</td>\n",
              "    </tr>\n",
              "    <tr>\n",
              "      <th>7</th>\n",
              "      <td>BgC</td>\n",
              "      <td>0.954545</td>\n",
              "      <td>0.852713</td>\n",
              "    </tr>\n",
              "  </tbody>\n",
              "</table>\n",
              "</div>"
            ],
            "text/plain": [
              "   Algorithm  Accuracy  Precision\n",
              "1         KN  0.905222   1.000000\n",
              "3         NB  0.972921   1.000000\n",
              "8        ETC  0.977756   0.983193\n",
              "5         RF  0.971954   0.973913\n",
              "0        SVC  0.974855   0.966667\n",
              "4         LR  0.957447   0.951923\n",
              "10       xgb  0.969052   0.941667\n",
              "6   AdaBoost  0.964217   0.931624\n",
              "9       GBDT  0.948743   0.929293\n",
              "2         DT  0.935203   0.858586\n",
              "7        BgC  0.954545   0.852713"
            ]
          },
          "execution_count": 64,
          "metadata": {},
          "output_type": "execute_result"
        }
      ],
      "source": [
        "performance_df"
      ]
    },
    {
      "cell_type": "markdown",
      "id": "c87ea2b5",
      "metadata": {
        "papermill": {
          "duration": 0.046374,
          "end_time": "2023-07-01T11:52:44.675403",
          "exception": false,
          "start_time": "2023-07-01T11:52:44.629029",
          "status": "completed"
        },
        "tags": [],
        "id": "c87ea2b5"
      },
      "source": [
        "# Conclusion"
      ]
    },
    {
      "cell_type": "markdown",
      "id": "3d69fb96",
      "metadata": {
        "papermill": {
          "duration": 0.048686,
          "end_time": "2023-07-01T11:52:44.771190",
          "exception": false,
          "start_time": "2023-07-01T11:52:44.722504",
          "status": "completed"
        },
        "tags": [],
        "id": "3d69fb96"
      },
      "source": [
        "Based on the results the **Naive Bayes (NB) algorithm** has the highest accuracy and precision scores among all the algorithms evaluated for detecting whether a message is spam or not.\n",
        "\n",
        "1. Accuracy: NB achieved an accuracy of 0.97, which means it correctly classified approximately 97.29% of the messages as either spam or not spam. This high accuracy suggests that NB is effective in distinguishing between spam and non-spam messages.\n",
        "\n",
        "2. Precision: NB obtained a precision score of 1.000, indicating that when it predicted a message as spam, it was correct 100% of the time. In other words, NB has a very low false positive rate, meaning it rarely misclassifies non-spam messages as spam.\n",
        "\n",
        "Considering these results, NB stands out as a strong choice for spam detection. It offers a high overall accuracy and an impressive precision score, ensuring that when it predicts a message as spam, it is highly likely to be correct.\n",
        "\n",
        "**We are going to use Naive Bayes model as our final model for prediction**"
      ]
    }
  ],
  "metadata": {
    "kernelspec": {
      "display_name": "Python 3",
      "language": "python",
      "name": "python3"
    },
    "language_info": {
      "codemirror_mode": {
        "name": "ipython",
        "version": 3
      },
      "file_extension": ".py",
      "mimetype": "text/x-python",
      "name": "python",
      "nbconvert_exporter": "python",
      "pygments_lexer": "ipython3",
      "version": "3.10.10"
    },
    "papermill": {
      "default_parameters": {},
      "duration": 296.27389,
      "end_time": "2023-07-01T11:52:46.643092",
      "environment_variables": {},
      "exception": null,
      "input_path": "__notebook__.ipynb",
      "output_path": "__notebook__.ipynb",
      "parameters": {},
      "start_time": "2023-07-01T11:47:50.369202",
      "version": "2.4.0"
    },
    "colab": {
      "provenance": []
    }
  },
  "nbformat": 4,
  "nbformat_minor": 5
}